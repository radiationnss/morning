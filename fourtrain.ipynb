{
 "cells": [
  {
   "cell_type": "code",
   "execution_count": 1,
   "id": "b1a2f672-3bfc-4b18-a037-41a3ca5dcac0",
   "metadata": {},
   "outputs": [],
   "source": [
    "import pandas as pd\n",
    "import numpy as np\n",
    "\n",
    "import os\n",
    "import sys\n",
    "\n",
    "# librosa is a Python library for analyzing audio and music. It can be used to extract the data from the audio files we will see it later.\n",
    "import librosa\n",
    "import librosa.display\n",
    "import seaborn as sns\n",
    "import matplotlib.pyplot as plt\n",
    "\n",
    "from sklearn.preprocessing import StandardScaler, OneHotEncoder\n",
    "from sklearn.metrics import confusion_matrix, classification_report\n",
    "from sklearn.model_selection import train_test_split"
   ]
  },
  {
   "cell_type": "code",
   "execution_count": 2,
   "id": "afc4b8da-af64-4dd0-83ff-ee0b5d837d7b",
   "metadata": {},
   "outputs": [
    {
     "data": {
      "text/html": [
       "<div>\n",
       "<style scoped>\n",
       "    .dataframe tbody tr th:only-of-type {\n",
       "        vertical-align: middle;\n",
       "    }\n",
       "\n",
       "    .dataframe tbody tr th {\n",
       "        vertical-align: top;\n",
       "    }\n",
       "\n",
       "    .dataframe thead th {\n",
       "        text-align: right;\n",
       "    }\n",
       "</style>\n",
       "<table border=\"1\" class=\"dataframe\">\n",
       "  <thead>\n",
       "    <tr style=\"text-align: right;\">\n",
       "      <th></th>\n",
       "      <th>0</th>\n",
       "      <th>1</th>\n",
       "      <th>2</th>\n",
       "      <th>3</th>\n",
       "      <th>4</th>\n",
       "      <th>5</th>\n",
       "      <th>6</th>\n",
       "      <th>7</th>\n",
       "      <th>8</th>\n",
       "      <th>9</th>\n",
       "      <th>...</th>\n",
       "      <th>2367</th>\n",
       "      <th>2368</th>\n",
       "      <th>2369</th>\n",
       "      <th>2370</th>\n",
       "      <th>2371</th>\n",
       "      <th>2372</th>\n",
       "      <th>2373</th>\n",
       "      <th>2374</th>\n",
       "      <th>2375</th>\n",
       "      <th>Emotions</th>\n",
       "    </tr>\n",
       "  </thead>\n",
       "  <tbody>\n",
       "    <tr>\n",
       "      <th>0</th>\n",
       "      <td>0.173828</td>\n",
       "      <td>0.264648</td>\n",
       "      <td>0.372559</td>\n",
       "      <td>0.486328</td>\n",
       "      <td>0.625488</td>\n",
       "      <td>0.681152</td>\n",
       "      <td>0.720703</td>\n",
       "      <td>0.651855</td>\n",
       "      <td>0.562988</td>\n",
       "      <td>0.559082</td>\n",
       "      <td>...</td>\n",
       "      <td>27.454710</td>\n",
       "      <td>-24.811575</td>\n",
       "      <td>38.476006</td>\n",
       "      <td>-20.518929</td>\n",
       "      <td>26.791615</td>\n",
       "      <td>-20.561426</td>\n",
       "      <td>16.872976</td>\n",
       "      <td>-15.906387</td>\n",
       "      <td>12.373283</td>\n",
       "      <td>neutral</td>\n",
       "    </tr>\n",
       "    <tr>\n",
       "      <th>1</th>\n",
       "      <td>0.251953</td>\n",
       "      <td>0.378418</td>\n",
       "      <td>0.492676</td>\n",
       "      <td>0.497070</td>\n",
       "      <td>0.501953</td>\n",
       "      <td>0.503418</td>\n",
       "      <td>0.500977</td>\n",
       "      <td>0.498047</td>\n",
       "      <td>0.490234</td>\n",
       "      <td>0.494629</td>\n",
       "      <td>...</td>\n",
       "      <td>0.873289</td>\n",
       "      <td>0.464743</td>\n",
       "      <td>6.040663</td>\n",
       "      <td>-1.618928</td>\n",
       "      <td>-0.346345</td>\n",
       "      <td>2.412566</td>\n",
       "      <td>-4.389700</td>\n",
       "      <td>-2.114351</td>\n",
       "      <td>8.887232</td>\n",
       "      <td>neutral</td>\n",
       "    </tr>\n",
       "    <tr>\n",
       "      <th>2</th>\n",
       "      <td>0.256348</td>\n",
       "      <td>0.354492</td>\n",
       "      <td>0.471191</td>\n",
       "      <td>0.414062</td>\n",
       "      <td>0.378418</td>\n",
       "      <td>0.373535</td>\n",
       "      <td>0.354492</td>\n",
       "      <td>0.408691</td>\n",
       "      <td>0.466797</td>\n",
       "      <td>0.522461</td>\n",
       "      <td>...</td>\n",
       "      <td>26.907248</td>\n",
       "      <td>-9.886968</td>\n",
       "      <td>33.736134</td>\n",
       "      <td>-5.981696</td>\n",
       "      <td>18.949165</td>\n",
       "      <td>-15.546387</td>\n",
       "      <td>16.316257</td>\n",
       "      <td>-17.477917</td>\n",
       "      <td>18.818737</td>\n",
       "      <td>neutral</td>\n",
       "    </tr>\n",
       "    <tr>\n",
       "      <th>3</th>\n",
       "      <td>0.254883</td>\n",
       "      <td>0.373535</td>\n",
       "      <td>0.499023</td>\n",
       "      <td>0.505371</td>\n",
       "      <td>0.503906</td>\n",
       "      <td>0.505371</td>\n",
       "      <td>0.502930</td>\n",
       "      <td>0.496582</td>\n",
       "      <td>0.499512</td>\n",
       "      <td>0.509277</td>\n",
       "      <td>...</td>\n",
       "      <td>2.224589</td>\n",
       "      <td>-0.678352</td>\n",
       "      <td>2.208240</td>\n",
       "      <td>1.466299</td>\n",
       "      <td>2.025446</td>\n",
       "      <td>2.246046</td>\n",
       "      <td>-2.888292</td>\n",
       "      <td>3.860585</td>\n",
       "      <td>1.290843</td>\n",
       "      <td>neutral</td>\n",
       "    </tr>\n",
       "    <tr>\n",
       "      <th>4</th>\n",
       "      <td>0.247070</td>\n",
       "      <td>0.389648</td>\n",
       "      <td>0.564941</td>\n",
       "      <td>0.642578</td>\n",
       "      <td>0.665527</td>\n",
       "      <td>0.684570</td>\n",
       "      <td>0.676270</td>\n",
       "      <td>0.666992</td>\n",
       "      <td>0.648926</td>\n",
       "      <td>0.595703</td>\n",
       "      <td>...</td>\n",
       "      <td>23.018936</td>\n",
       "      <td>-22.310469</td>\n",
       "      <td>22.215027</td>\n",
       "      <td>-20.285820</td>\n",
       "      <td>21.415392</td>\n",
       "      <td>-16.627449</td>\n",
       "      <td>20.846609</td>\n",
       "      <td>-14.373590</td>\n",
       "      <td>15.843704</td>\n",
       "      <td>neutral</td>\n",
       "    </tr>\n",
       "  </tbody>\n",
       "</table>\n",
       "<p>5 rows × 2377 columns</p>\n",
       "</div>"
      ],
      "text/plain": [
       "          0         1         2         3         4         5         6  \\\n",
       "0  0.173828  0.264648  0.372559  0.486328  0.625488  0.681152  0.720703   \n",
       "1  0.251953  0.378418  0.492676  0.497070  0.501953  0.503418  0.500977   \n",
       "2  0.256348  0.354492  0.471191  0.414062  0.378418  0.373535  0.354492   \n",
       "3  0.254883  0.373535  0.499023  0.505371  0.503906  0.505371  0.502930   \n",
       "4  0.247070  0.389648  0.564941  0.642578  0.665527  0.684570  0.676270   \n",
       "\n",
       "          7         8         9  ...       2367       2368       2369  \\\n",
       "0  0.651855  0.562988  0.559082  ...  27.454710 -24.811575  38.476006   \n",
       "1  0.498047  0.490234  0.494629  ...   0.873289   0.464743   6.040663   \n",
       "2  0.408691  0.466797  0.522461  ...  26.907248  -9.886968  33.736134   \n",
       "3  0.496582  0.499512  0.509277  ...   2.224589  -0.678352   2.208240   \n",
       "4  0.666992  0.648926  0.595703  ...  23.018936 -22.310469  22.215027   \n",
       "\n",
       "        2370       2371       2372       2373       2374       2375  Emotions  \n",
       "0 -20.518929  26.791615 -20.561426  16.872976 -15.906387  12.373283   neutral  \n",
       "1  -1.618928  -0.346345   2.412566  -4.389700  -2.114351   8.887232   neutral  \n",
       "2  -5.981696  18.949165 -15.546387  16.316257 -17.477917  18.818737   neutral  \n",
       "3   1.466299   2.025446   2.246046  -2.888292   3.860585   1.290843   neutral  \n",
       "4 -20.285820  21.415392 -16.627449  20.846609 -14.373590  15.843704   neutral  \n",
       "\n",
       "[5 rows x 2377 columns]"
      ]
     },
     "execution_count": 2,
     "metadata": {},
     "output_type": "execute_result"
    }
   ],
   "source": [
    "Emotions = pd.read_csv('emotion.csv')\n",
    "Emotions.head()"
   ]
  },
  {
   "cell_type": "code",
   "execution_count": 3,
   "id": "dca2a7a3-5a06-4e61-bd62-f5d3c096278c",
   "metadata": {},
   "outputs": [
    {
     "name": "stdout",
     "output_type": "stream",
     "text": [
      "0           False\n",
      "1           False\n",
      "2           False\n",
      "3           False\n",
      "4           False\n",
      "            ...  \n",
      "2372         True\n",
      "2373         True\n",
      "2374         True\n",
      "2375         True\n",
      "Emotions    False\n",
      "Length: 2377, dtype: bool\n"
     ]
    }
   ],
   "source": [
    "print(Emotions.isna().any())"
   ]
  },
  {
   "cell_type": "code",
   "execution_count": 4,
   "id": "44f9d51c-0213-4730-9665-07b034456fc9",
   "metadata": {},
   "outputs": [
    {
     "name": "stdout",
     "output_type": "stream",
     "text": [
      "0           False\n",
      "1           False\n",
      "2           False\n",
      "3           False\n",
      "4           False\n",
      "            ...  \n",
      "2372        False\n",
      "2373        False\n",
      "2374        False\n",
      "2375        False\n",
      "Emotions    False\n",
      "Length: 2377, dtype: bool\n"
     ]
    },
    {
     "data": {
      "text/plain": [
       "(35856, 2377)"
      ]
     },
     "execution_count": 4,
     "metadata": {},
     "output_type": "execute_result"
    }
   ],
   "source": [
    "Emotions=Emotions.fillna(0)\n",
    "print(Emotions.isna().any())\n",
    "Emotions.shape"
   ]
  },
  {
   "cell_type": "code",
   "execution_count": 5,
   "id": "25a8cb64-b598-4a7a-bacf-cf9440353743",
   "metadata": {},
   "outputs": [
    {
     "name": "stderr",
     "output_type": "stream",
     "text": [
      "C:\\Users\\abina\\miniconda3\\envs\\test\\lib\\site-packages\\numpy\\core\\fromnumeric.py:86: FutureWarning: The behavior of DataFrame.sum with axis=None is deprecated, in a future version this will reduce over both axes and return a scalar. To retain the old behavior, pass axis=0 (or do not pass axis)\n",
      "  return reduction(axis=axis, out=out, **passkwargs)\n"
     ]
    },
    {
     "data": {
      "text/plain": [
       "0           0\n",
       "1           0\n",
       "2           0\n",
       "3           0\n",
       "4           0\n",
       "           ..\n",
       "2372        0\n",
       "2373        0\n",
       "2374        0\n",
       "2375        0\n",
       "Emotions    0\n",
       "Length: 2377, dtype: int64"
      ]
     },
     "execution_count": 5,
     "metadata": {},
     "output_type": "execute_result"
    }
   ],
   "source": [
    "np.sum(Emotions.isna())"
   ]
  },
  {
   "cell_type": "code",
   "execution_count": 6,
   "id": "bc8ba861-d626-4924-a4ae-c1750cdfd25c",
   "metadata": {},
   "outputs": [],
   "source": [
    "X = Emotions.iloc[: ,:-1].values\n",
    "Y = Emotions['Emotions'].values"
   ]
  },
  {
   "cell_type": "code",
   "execution_count": 7,
   "id": "fd2fca62-9a04-4c66-944c-090237155fd6",
   "metadata": {},
   "outputs": [],
   "source": [
    "from sklearn.preprocessing import StandardScaler, OneHotEncoder\n",
    "encoder = OneHotEncoder()\n",
    "Y = encoder.fit_transform(np.array(Y).reshape(-1,1)).toarray()\n"
   ]
  },
  {
   "cell_type": "code",
   "execution_count": 8,
   "id": "0bf32daf-becb-401a-9546-31e38246c762",
   "metadata": {},
   "outputs": [
    {
     "name": "stdout",
     "output_type": "stream",
     "text": [
      "(35856, 4)\n"
     ]
    },
    {
     "data": {
      "text/plain": [
       "(35856, 2376)"
      ]
     },
     "execution_count": 8,
     "metadata": {},
     "output_type": "execute_result"
    }
   ],
   "source": [
    "print(Y.shape)\n",
    "X.shape"
   ]
  },
  {
   "cell_type": "code",
   "execution_count": 9,
   "id": "7e54e4b8-194c-4cee-83cd-0297483dabbc",
   "metadata": {},
   "outputs": [
    {
     "data": {
      "text/plain": [
       "((28684, 2376), (28684, 4), (7172, 2376), (7172, 4))"
      ]
     },
     "execution_count": 9,
     "metadata": {},
     "output_type": "execute_result"
    }
   ],
   "source": [
    "from sklearn.model_selection import train_test_split\n",
    "\n",
    "x_train, x_test, y_train, y_test = train_test_split(X, Y, random_state=42,test_size=0.2, shuffle=True)\n",
    "x_train.shape, y_train.shape, x_test.shape, y_test.shape"
   ]
  },
  {
   "cell_type": "code",
   "execution_count": 10,
   "id": "658f4bab-22ed-4b07-b493-c10c52ca83e4",
   "metadata": {},
   "outputs": [],
   "source": [
    "#reshape for lstm\n",
    "X_train = x_train.reshape(x_train.shape[0] , x_train.shape[1] , 1)\n",
    "X_test = x_test.reshape(x_test.shape[0] , x_test.shape[1] , 1)"
   ]
  },
  {
   "cell_type": "code",
   "execution_count": 11,
   "id": "5bf3df58-9860-479a-837e-c793485b19e8",
   "metadata": {},
   "outputs": [
    {
     "data": {
      "text/plain": [
       "2376"
      ]
     },
     "execution_count": 11,
     "metadata": {},
     "output_type": "execute_result"
    }
   ],
   "source": [
    "X_train.shape[1]"
   ]
  },
  {
   "cell_type": "code",
   "execution_count": 12,
   "id": "486fae9e-693a-463b-a2af-7557c8efe1c1",
   "metadata": {},
   "outputs": [
    {
     "data": {
      "text/plain": [
       "((28684, 2376), (28684, 4), (7172, 2376), (7172, 4))"
      ]
     },
     "execution_count": 12,
     "metadata": {},
     "output_type": "execute_result"
    }
   ],
   "source": [
    "# scaling our data with sklearn's Standard scaler\n",
    "scaler = StandardScaler()\n",
    "x_train = scaler.fit_transform(x_train)\n",
    "x_test = scaler.transform(x_test)\n",
    "x_train.shape, y_train.shape, x_test.shape, y_test.shape"
   ]
  },
  {
   "cell_type": "code",
   "execution_count": 13,
   "id": "ea1a65d9-8ee3-4243-a9fa-ca88bf94c8ae",
   "metadata": {},
   "outputs": [],
   "source": [
    "from keras.callbacks import ModelCheckpoint, EarlyStopping,ReduceLROnPlateau\n",
    "model_checkpoint = ModelCheckpoint('best_model1_weights.h5', monitor='val_accuracy', save_best_only=True)"
   ]
  },
  {
   "cell_type": "code",
   "execution_count": 14,
   "id": "919cfc4c-2e0e-40b9-9cce-8c0a797f3b32",
   "metadata": {},
   "outputs": [],
   "source": [
    "early_stop=EarlyStopping(monitor='val_acc',mode='auto',patience=5,restore_best_weights=True)\n",
    "lr_reduction=ReduceLROnPlateau(monitor='val_acc',patience=3,verbose=1,factor=0.5,min_lr=0.00001)"
   ]
  },
  {
   "cell_type": "code",
   "execution_count": 15,
   "id": "53f583fd-be2f-49df-ac33-ab5c2384f1b9",
   "metadata": {},
   "outputs": [],
   "source": [
    "import tensorflow as tf\n",
    "import keras\n",
    "from keras.preprocessing import sequence\n",
    "from keras.models import Sequential\n",
    "from keras.layers import Dense, Embedding\n",
    "from keras.layers import LSTM,BatchNormalization , GRU\n",
    "from keras.preprocessing.text import Tokenizer\n",
    "from keras.utils import pad_sequences\n",
    "from tensorflow.keras.utils import to_categorical\n",
    "from keras.layers import Input, Flatten, Dropout, Activation\n",
    "from keras.layers import Conv1D, MaxPooling1D, AveragePooling1D\n",
    "from keras.models import Model\n",
    "from keras.callbacks import ModelCheckpoint\n",
    "from tensorflow.keras.optimizers import SGD"
   ]
  },
  {
   "cell_type": "code",
   "execution_count": 16,
   "id": "2fdc24ba-dcb9-4a28-874c-fd8973d2683b",
   "metadata": {},
   "outputs": [
    {
     "data": {
      "text/plain": [
       "((28684, 2376, 1), (28684, 4), (7172, 2376, 1), (7172, 4))"
      ]
     },
     "execution_count": 16,
     "metadata": {},
     "output_type": "execute_result"
    }
   ],
   "source": [
    "#Reshape for CNN_LSTM MODEL\n",
    "\n",
    "x_traincnn =np.expand_dims(x_train, axis=2)\n",
    "x_testcnn= np.expand_dims(x_test, axis=2)\n",
    "x_traincnn.shape, y_train.shape, x_testcnn.shape, y_test.shape\n",
    "#x_testcnn[0]"
   ]
  },
  {
   "cell_type": "code",
   "execution_count": 17,
   "id": "ac87c82f-ebdf-41bc-a140-006130e73fc9",
   "metadata": {},
   "outputs": [
    {
     "name": "stdout",
     "output_type": "stream",
     "text": [
      "Model: \"sequential\"\n",
      "_________________________________________________________________\n",
      " Layer (type)                Output Shape              Param #   \n",
      "=================================================================\n",
      " conv1d (Conv1D)             (None, 2376, 16)          96        \n",
      "                                                                 \n",
      " batch_normalization (BatchN  (None, 2376, 16)         64        \n",
      " ormalization)                                                   \n",
      "                                                                 \n",
      " max_pooling1d (MaxPooling1D  (None, 1188, 16)         0         \n",
      " )                                                               \n",
      "                                                                 \n",
      " conv1d_1 (Conv1D)           (None, 1188, 32)          2592      \n",
      "                                                                 \n",
      " batch_normalization_1 (Batc  (None, 1188, 32)         128       \n",
      " hNormalization)                                                 \n",
      "                                                                 \n",
      " max_pooling1d_1 (MaxPooling  (None, 594, 32)          0         \n",
      " 1D)                                                             \n",
      "                                                                 \n",
      " dropout (Dropout)           (None, 594, 32)           0         \n",
      "                                                                 \n",
      " conv1d_2 (Conv1D)           (None, 594, 64)           6208      \n",
      "                                                                 \n",
      " batch_normalization_2 (Batc  (None, 594, 64)          256       \n",
      " hNormalization)                                                 \n",
      "                                                                 \n",
      " max_pooling1d_2 (MaxPooling  (None, 297, 64)          0         \n",
      " 1D)                                                             \n",
      "                                                                 \n",
      " conv1d_3 (Conv1D)           (None, 297, 128)          24704     \n",
      "                                                                 \n",
      " batch_normalization_3 (Batc  (None, 297, 128)         512       \n",
      " hNormalization)                                                 \n",
      "                                                                 \n",
      " max_pooling1d_3 (MaxPooling  (None, 149, 128)         0         \n",
      " 1D)                                                             \n",
      "                                                                 \n",
      " dropout_1 (Dropout)         (None, 149, 128)          0         \n",
      "                                                                 \n",
      " conv1d_4 (Conv1D)           (None, 149, 128)          49280     \n",
      "                                                                 \n",
      " batch_normalization_4 (Batc  (None, 149, 128)         512       \n",
      " hNormalization)                                                 \n",
      "                                                                 \n",
      " max_pooling1d_4 (MaxPooling  (None, 75, 128)          0         \n",
      " 1D)                                                             \n",
      "                                                                 \n",
      " flatten (Flatten)           (None, 9600)              0         \n",
      "                                                                 \n",
      " dense (Dense)               (None, 64)                614464    \n",
      "                                                                 \n",
      " batch_normalization_5 (Batc  (None, 64)               256       \n",
      " hNormalization)                                                 \n",
      "                                                                 \n",
      " dense_1 (Dense)             (None, 4)                 260       \n",
      "                                                                 \n",
      "=================================================================\n",
      "Total params: 699,332\n",
      "Trainable params: 698,468\n",
      "Non-trainable params: 864\n",
      "_________________________________________________________________\n"
     ]
    }
   ],
   "source": [
    "import tensorflow.keras.layers as L\n",
    "\n",
    "model = tf.keras.Sequential([\n",
    "    L.Conv1D(16,kernel_size=5, strides=1,padding='same', activation='relu',input_shape=(X_train.shape[1],1)),\n",
    "    L.BatchNormalization(),\n",
    "    L.MaxPool1D(pool_size=5,strides=2,padding='same'),\n",
    "    \n",
    "    L.Conv1D(32,kernel_size=5,strides=1,padding='same',activation='relu'),\n",
    "    L.BatchNormalization(),\n",
    "    L.MaxPool1D(pool_size=5,strides=2,padding='same'),\n",
    "    Dropout(0.2),  # Add dropout layer after the second max pooling layer\n",
    "    \n",
    "    L.Conv1D(64,kernel_size=3,strides=1,padding='same',activation='relu'),\n",
    "    L.BatchNormalization(),\n",
    "    L.MaxPool1D(pool_size=5,strides=2,padding='same'),\n",
    "    \n",
    "    L.Conv1D(128,kernel_size=3,strides=1,padding='same',activation='relu'),\n",
    "    L.BatchNormalization(),\n",
    "    L.MaxPool1D(pool_size=3,strides=2,padding='same'),\n",
    "    Dropout(0.2),  # Add dropout layer after the fifth max pooling layer\n",
    "\n",
    "    L.Conv1D(128,kernel_size=3,strides=1,padding='same',activation='relu'),\n",
    "    L.BatchNormalization(),\n",
    "    L.MaxPool1D(pool_size=8,strides=2,padding='same'),\n",
    "    #Dropout(0.2),  # Add dropout layer after the fourth max pooling layer\n",
    "    \n",
    "    L.Flatten(),\n",
    "    L.Dense(64,activation='relu'),\n",
    "    L.BatchNormalization(),\n",
    "    L.Dense(4,activation='softmax')\n",
    "])\n",
    "model.compile(optimizer='adam',loss='categorical_crossentropy',metrics='accuracy')\n",
    "model.summary()"
   ]
  },
  {
   "cell_type": "code",
   "execution_count": 18,
   "id": "e113d8b4-35c4-41a2-863e-25bbdf801528",
   "metadata": {},
   "outputs": [
    {
     "name": "stdout",
     "output_type": "stream",
     "text": [
      "Epoch 1/15\n",
      "449/449 [==============================] - ETA: 0s - loss: 0.8260 - accuracy: 0.6441WARNING:tensorflow:Early stopping conditioned on metric `val_acc` which is not available. Available metrics are: loss,accuracy,val_loss,val_accuracy\n",
      "WARNING:tensorflow:Learning rate reduction is conditioned on metric `val_acc` which is not available. Available metrics are: loss,accuracy,val_loss,val_accuracy,lr\n",
      "449/449 [==============================] - 19s 26ms/step - loss: 0.8260 - accuracy: 0.6441 - val_loss: 1.0312 - val_accuracy: 0.6729 - lr: 0.0010\n",
      "Epoch 2/15\n",
      "447/449 [============================>.] - ETA: 0s - loss: 0.6582 - accuracy: 0.7225WARNING:tensorflow:Early stopping conditioned on metric `val_acc` which is not available. Available metrics are: loss,accuracy,val_loss,val_accuracy\n",
      "WARNING:tensorflow:Learning rate reduction is conditioned on metric `val_acc` which is not available. Available metrics are: loss,accuracy,val_loss,val_accuracy,lr\n",
      "449/449 [==============================] - 13s 28ms/step - loss: 0.6580 - accuracy: 0.7224 - val_loss: 0.9526 - val_accuracy: 0.6853 - lr: 0.0010\n",
      "Epoch 3/15\n",
      "447/449 [============================>.] - ETA: 0s - loss: 0.6047 - accuracy: 0.7416WARNING:tensorflow:Early stopping conditioned on metric `val_acc` which is not available. Available metrics are: loss,accuracy,val_loss,val_accuracy\n",
      "WARNING:tensorflow:Learning rate reduction is conditioned on metric `val_acc` which is not available. Available metrics are: loss,accuracy,val_loss,val_accuracy,lr\n",
      "449/449 [==============================] - 13s 29ms/step - loss: 0.6044 - accuracy: 0.7419 - val_loss: 0.6229 - val_accuracy: 0.7427 - lr: 0.0010\n",
      "Epoch 4/15\n",
      "447/449 [============================>.] - ETA: 0s - loss: 0.5698 - accuracy: 0.7570WARNING:tensorflow:Early stopping conditioned on metric `val_acc` which is not available. Available metrics are: loss,accuracy,val_loss,val_accuracy\n",
      "WARNING:tensorflow:Learning rate reduction is conditioned on metric `val_acc` which is not available. Available metrics are: loss,accuracy,val_loss,val_accuracy,lr\n",
      "449/449 [==============================] - 13s 28ms/step - loss: 0.5695 - accuracy: 0.7571 - val_loss: 0.6945 - val_accuracy: 0.7408 - lr: 0.0010\n",
      "Epoch 5/15\n",
      "447/449 [============================>.] - ETA: 0s - loss: 0.5380 - accuracy: 0.7740WARNING:tensorflow:Early stopping conditioned on metric `val_acc` which is not available. Available metrics are: loss,accuracy,val_loss,val_accuracy\n",
      "WARNING:tensorflow:Learning rate reduction is conditioned on metric `val_acc` which is not available. Available metrics are: loss,accuracy,val_loss,val_accuracy,lr\n",
      "449/449 [==============================] - 13s 29ms/step - loss: 0.5379 - accuracy: 0.7741 - val_loss: 0.5774 - val_accuracy: 0.7605 - lr: 0.0010\n",
      "Epoch 6/15\n",
      "447/449 [============================>.] - ETA: 0s - loss: 0.5192 - accuracy: 0.7852WARNING:tensorflow:Early stopping conditioned on metric `val_acc` which is not available. Available metrics are: loss,accuracy,val_loss,val_accuracy\n",
      "WARNING:tensorflow:Learning rate reduction is conditioned on metric `val_acc` which is not available. Available metrics are: loss,accuracy,val_loss,val_accuracy,lr\n",
      "449/449 [==============================] - 13s 29ms/step - loss: 0.5191 - accuracy: 0.7853 - val_loss: 0.7457 - val_accuracy: 0.7546 - lr: 0.0010\n",
      "Epoch 7/15\n",
      "448/449 [============================>.] - ETA: 0s - loss: 0.4979 - accuracy: 0.7928WARNING:tensorflow:Early stopping conditioned on metric `val_acc` which is not available. Available metrics are: loss,accuracy,val_loss,val_accuracy\n",
      "WARNING:tensorflow:Learning rate reduction is conditioned on metric `val_acc` which is not available. Available metrics are: loss,accuracy,val_loss,val_accuracy,lr\n",
      "449/449 [==============================] - 13s 29ms/step - loss: 0.4980 - accuracy: 0.7927 - val_loss: 0.6102 - val_accuracy: 0.7803 - lr: 0.0010\n",
      "Epoch 8/15\n",
      "447/449 [============================>.] - ETA: 0s - loss: 0.4807 - accuracy: 0.8003WARNING:tensorflow:Early stopping conditioned on metric `val_acc` which is not available. Available metrics are: loss,accuracy,val_loss,val_accuracy\n",
      "WARNING:tensorflow:Learning rate reduction is conditioned on metric `val_acc` which is not available. Available metrics are: loss,accuracy,val_loss,val_accuracy,lr\n",
      "449/449 [==============================] - 13s 28ms/step - loss: 0.4809 - accuracy: 0.8000 - val_loss: 0.6028 - val_accuracy: 0.7642 - lr: 0.0010\n",
      "Epoch 9/15\n",
      "447/449 [============================>.] - ETA: 0s - loss: 0.4565 - accuracy: 0.8123WARNING:tensorflow:Early stopping conditioned on metric `val_acc` which is not available. Available metrics are: loss,accuracy,val_loss,val_accuracy\n",
      "WARNING:tensorflow:Learning rate reduction is conditioned on metric `val_acc` which is not available. Available metrics are: loss,accuracy,val_loss,val_accuracy,lr\n",
      "449/449 [==============================] - 13s 29ms/step - loss: 0.4562 - accuracy: 0.8124 - val_loss: 0.5233 - val_accuracy: 0.7847 - lr: 0.0010\n",
      "Epoch 10/15\n",
      "447/449 [============================>.] - ETA: 0s - loss: 0.4364 - accuracy: 0.8207WARNING:tensorflow:Early stopping conditioned on metric `val_acc` which is not available. Available metrics are: loss,accuracy,val_loss,val_accuracy\n",
      "WARNING:tensorflow:Learning rate reduction is conditioned on metric `val_acc` which is not available. Available metrics are: loss,accuracy,val_loss,val_accuracy,lr\n",
      "449/449 [==============================] - 13s 29ms/step - loss: 0.4365 - accuracy: 0.8206 - val_loss: 0.5108 - val_accuracy: 0.7974 - lr: 0.0010\n",
      "Epoch 11/15\n",
      "447/449 [============================>.] - ETA: 0s - loss: 0.4249 - accuracy: 0.8271WARNING:tensorflow:Early stopping conditioned on metric `val_acc` which is not available. Available metrics are: loss,accuracy,val_loss,val_accuracy\n",
      "WARNING:tensorflow:Learning rate reduction is conditioned on metric `val_acc` which is not available. Available metrics are: loss,accuracy,val_loss,val_accuracy,lr\n",
      "449/449 [==============================] - 13s 29ms/step - loss: 0.4250 - accuracy: 0.8271 - val_loss: 0.5145 - val_accuracy: 0.7971 - lr: 0.0010\n",
      "Epoch 12/15\n",
      "447/449 [============================>.] - ETA: 0s - loss: 0.3948 - accuracy: 0.8414WARNING:tensorflow:Early stopping conditioned on metric `val_acc` which is not available. Available metrics are: loss,accuracy,val_loss,val_accuracy\n",
      "WARNING:tensorflow:Learning rate reduction is conditioned on metric `val_acc` which is not available. Available metrics are: loss,accuracy,val_loss,val_accuracy,lr\n",
      "449/449 [==============================] - 13s 30ms/step - loss: 0.3948 - accuracy: 0.8414 - val_loss: 0.4732 - val_accuracy: 0.8051 - lr: 0.0010\n",
      "Epoch 13/15\n",
      "447/449 [============================>.] - ETA: 0s - loss: 0.3665 - accuracy: 0.8537WARNING:tensorflow:Early stopping conditioned on metric `val_acc` which is not available. Available metrics are: loss,accuracy,val_loss,val_accuracy\n",
      "WARNING:tensorflow:Learning rate reduction is conditioned on metric `val_acc` which is not available. Available metrics are: loss,accuracy,val_loss,val_accuracy,lr\n",
      "449/449 [==============================] - 13s 29ms/step - loss: 0.3664 - accuracy: 0.8536 - val_loss: 0.4464 - val_accuracy: 0.8193 - lr: 0.0010\n",
      "Epoch 14/15\n",
      "447/449 [============================>.] - ETA: 0s - loss: 0.3444 - accuracy: 0.8624WARNING:tensorflow:Early stopping conditioned on metric `val_acc` which is not available. Available metrics are: loss,accuracy,val_loss,val_accuracy\n",
      "WARNING:tensorflow:Learning rate reduction is conditioned on metric `val_acc` which is not available. Available metrics are: loss,accuracy,val_loss,val_accuracy,lr\n",
      "449/449 [==============================] - 13s 29ms/step - loss: 0.3446 - accuracy: 0.8623 - val_loss: 0.4842 - val_accuracy: 0.8161 - lr: 0.0010\n",
      "Epoch 15/15\n",
      "447/449 [============================>.] - ETA: 0s - loss: 0.3238 - accuracy: 0.8711WARNING:tensorflow:Early stopping conditioned on metric `val_acc` which is not available. Available metrics are: loss,accuracy,val_loss,val_accuracy\n",
      "WARNING:tensorflow:Learning rate reduction is conditioned on metric `val_acc` which is not available. Available metrics are: loss,accuracy,val_loss,val_accuracy,lr\n",
      "449/449 [==============================] - 13s 29ms/step - loss: 0.3243 - accuracy: 0.8708 - val_loss: 0.4459 - val_accuracy: 0.8282 - lr: 0.0010\n"
     ]
    }
   ],
   "source": [
    "history=model.fit(x_traincnn, y_train, epochs=15, validation_data=(x_testcnn, y_test), batch_size=64,callbacks=[early_stop,lr_reduction,model_checkpoint])"
   ]
  },
  {
   "cell_type": "code",
   "execution_count": 19,
   "id": "3cc03b4e-540d-4b7e-941e-5c9d31bd024b",
   "metadata": {},
   "outputs": [
    {
     "name": "stdout",
     "output_type": "stream",
     "text": [
      "225/225 [==============================] - 1s 6ms/step - loss: 0.4459 - accuracy: 0.8282\n",
      "Accuracy of our model on test data :  82.82208442687988 %\n"
     ]
    },
    {
     "data": {
      "image/png": "[encoded data removed]",
      "text/plain": [
       "<Figure size 2000x600 with 2 Axes>"
      ]
     },
     "metadata": {},
     "output_type": "display_data"
    }
   ],
   "source": [
    "print(\"Accuracy of our model on test data : \" , model.evaluate(x_testcnn,y_test)[1]*100 , \"%\")\n",
    "\n",
    "epochs = [i for i in range(15)]\n",
    "fig , ax = plt.subplots(1,2)\n",
    "train_acc = history.history['accuracy']\n",
    "train_loss = history.history['loss']\n",
    "test_acc = history.history['val_accuracy']\n",
    "test_loss = history.history['val_loss']\n",
    "\n",
    "fig.set_size_inches(20,6)\n",
    "ax[0].plot(epochs , train_loss , label = 'Training Loss')\n",
    "ax[0].plot(epochs , test_loss , label = 'Testing Loss')\n",
    "ax[0].set_title('Training & Testing Loss')\n",
    "ax[0].legend()\n",
    "ax[0].set_xlabel(\"Epochs\")\n",
    "\n",
    "ax[1].plot(epochs , train_acc , label = 'Training Accuracy')\n",
    "ax[1].plot(epochs , test_acc , label = 'Testing Accuracy')\n",
    "ax[1].set_title('Training & Testing Accuracy')\n",
    "ax[1].legend()\n",
    "ax[1].set_xlabel(\"Epochs\")\n",
    "plt.show()"
   ]
  },
  {
   "cell_type": "code",
   "execution_count": 20,
   "id": "5dd51bdd-7413-4c21-bc6f-88330fa19ca5",
   "metadata": {},
   "outputs": [
    {
     "name": "stdout",
     "output_type": "stream",
     "text": [
      "225/225 [==============================] - 1s 4ms/step\n"
     ]
    },
    {
     "data": {
      "text/html": [
       "<div>\n",
       "<style scoped>\n",
       "    .dataframe tbody tr th:only-of-type {\n",
       "        vertical-align: middle;\n",
       "    }\n",
       "\n",
       "    .dataframe tbody tr th {\n",
       "        vertical-align: top;\n",
       "    }\n",
       "\n",
       "    .dataframe thead th {\n",
       "        text-align: right;\n",
       "    }\n",
       "</style>\n",
       "<table border=\"1\" class=\"dataframe\">\n",
       "  <thead>\n",
       "    <tr style=\"text-align: right;\">\n",
       "      <th></th>\n",
       "      <th>Predicted Labels</th>\n",
       "      <th>Actual Labels</th>\n",
       "    </tr>\n",
       "  </thead>\n",
       "  <tbody>\n",
       "    <tr>\n",
       "      <th>0</th>\n",
       "      <td>neutral</td>\n",
       "      <td>neutral</td>\n",
       "    </tr>\n",
       "    <tr>\n",
       "      <th>1</th>\n",
       "      <td>happy</td>\n",
       "      <td>happy</td>\n",
       "    </tr>\n",
       "    <tr>\n",
       "      <th>2</th>\n",
       "      <td>neutral</td>\n",
       "      <td>neutral</td>\n",
       "    </tr>\n",
       "    <tr>\n",
       "      <th>3</th>\n",
       "      <td>neutral</td>\n",
       "      <td>neutral</td>\n",
       "    </tr>\n",
       "    <tr>\n",
       "      <th>4</th>\n",
       "      <td>sad</td>\n",
       "      <td>neutral</td>\n",
       "    </tr>\n",
       "    <tr>\n",
       "      <th>5</th>\n",
       "      <td>happy</td>\n",
       "      <td>happy</td>\n",
       "    </tr>\n",
       "    <tr>\n",
       "      <th>6</th>\n",
       "      <td>angry</td>\n",
       "      <td>angry</td>\n",
       "    </tr>\n",
       "    <tr>\n",
       "      <th>7</th>\n",
       "      <td>happy</td>\n",
       "      <td>happy</td>\n",
       "    </tr>\n",
       "    <tr>\n",
       "      <th>8</th>\n",
       "      <td>angry</td>\n",
       "      <td>angry</td>\n",
       "    </tr>\n",
       "    <tr>\n",
       "      <th>9</th>\n",
       "      <td>angry</td>\n",
       "      <td>angry</td>\n",
       "    </tr>\n",
       "  </tbody>\n",
       "</table>\n",
       "</div>"
      ],
      "text/plain": [
       "  Predicted Labels Actual Labels\n",
       "0          neutral       neutral\n",
       "1            happy         happy\n",
       "2          neutral       neutral\n",
       "3          neutral       neutral\n",
       "4              sad       neutral\n",
       "5            happy         happy\n",
       "6            angry         angry\n",
       "7            happy         happy\n",
       "8            angry         angry\n",
       "9            angry         angry"
      ]
     },
     "execution_count": 20,
     "metadata": {},
     "output_type": "execute_result"
    }
   ],
   "source": [
    "pred_test0 = model.predict(x_testcnn)\n",
    "y_pred0 = encoder.inverse_transform(pred_test0)\n",
    "y_test0 = encoder.inverse_transform(y_test)\n",
    "\n",
    "# Check for random predictions\n",
    "df0 = pd.DataFrame(columns=['Predicted Labels', 'Actual Labels'])\n",
    "df0['Predicted Labels'] = y_pred0.flatten()\n",
    "df0['Actual Labels'] = y_test0.flatten()\n",
    "\n",
    "df0.head(10)"
   ]
  },
  {
   "cell_type": "code",
   "execution_count": 21,
   "id": "7d976b24-12b6-45b4-9c3d-da826c9cfefc",
   "metadata": {},
   "outputs": [
    {
     "data": {
      "image/png": "[encoded data removed]",
      "text/plain": [
       "<Figure size 1200x1000 with 2 Axes>"
      ]
     },
     "metadata": {},
     "output_type": "display_data"
    },
    {
     "name": "stdout",
     "output_type": "stream",
     "text": [
      "              precision    recall  f1-score   support\n",
      "\n",
      "       angry       0.89      0.86      0.88      1806\n",
      "       happy       0.79      0.80      0.79      1818\n",
      "     neutral       0.79      0.80      0.79      1699\n",
      "         sad       0.84      0.85      0.85      1849\n",
      "\n",
      "    accuracy                           0.83      7172\n",
      "   macro avg       0.83      0.83      0.83      7172\n",
      "weighted avg       0.83      0.83      0.83      7172\n",
      "\n"
     ]
    }
   ],
   "source": [
    "from sklearn.metrics import confusion_matrix,classification_report\n",
    "cm = confusion_matrix(y_test0, y_pred0)\n",
    "plt.figure(figsize = (12, 10))\n",
    "cm = pd.DataFrame(cm , index = [i for i in encoder.categories_] , columns = [i for i in encoder.categories_])\n",
    "#cm = cm.astype('float') / cm.sum(axis=1)[:, np.newaxis]\n",
    "sns.heatmap(cm, linecolor='white', cmap='Blues', linewidth=1, annot=True, fmt='.2f')\n",
    "plt.title('Confusion Matrix', size=20)\n",
    "plt.xlabel('Predicted Labels', size=14)\n",
    "plt.ylabel('Actual Labels', size=14)\n",
    "plt.show()\n",
    "print(classification_report(y_test0, y_pred0))"
   ]
  },
  {
   "cell_type": "code",
   "execution_count": 22,
   "id": "3c30a464-6e05-4056-b961-e00c28f26dda",
   "metadata": {},
   "outputs": [
    {
     "name": "stdout",
     "output_type": "stream",
     "text": [
      "Saved model to disk\n"
     ]
    }
   ],
   "source": [
    "# MLP for Pima Indians Dataset Serialize to JSON and HDF5\n",
    "from tensorflow.keras.models import Sequential, model_from_json\n",
    "model_json = model.to_json()\n",
    "with open(\"CNN_model.json\", \"w\") as json_file:\n",
    "    json_file.write(model_json)\n",
    "# serialize weights to HDF5\n",
    "model.save_weights(\"CNN_model_weights.h5\")\n",
    "print(\"Saved model to disk\") "
   ]
  },
  {
   "cell_type": "code",
   "execution_count": 23,
   "id": "b2497fef-fc1a-4e1d-9911-ce849f89dd40",
   "metadata": {},
   "outputs": [
    {
     "name": "stdout",
     "output_type": "stream",
     "text": [
      "Loaded model from disk\n"
     ]
    }
   ],
   "source": [
    "from tensorflow.keras.models import Sequential, model_from_json\n",
    "import numpy as np\n",
    "json_file = open('CNN_model.json', 'r')\n",
    "loaded_model_json = json_file.read()\n",
    "json_file.close()\n",
    "loaded_model = model_from_json(loaded_model_json)\n",
    "# load weights into new model\n",
    "loaded_model.load_weights(\"best_model1_weights.h5\")\n",
    "print(\"Loaded model from disk\")"
   ]
  },
  {
   "cell_type": "code",
   "execution_count": 24,
   "id": "55ec28b9-987f-4857-9b03-562f46196a53",
   "metadata": {},
   "outputs": [
    {
     "name": "stdout",
     "output_type": "stream",
     "text": [
      "Done\n"
     ]
    }
   ],
   "source": [
    "import pickle\n",
    "\n",
    "# Saving scaler\n",
    "with open('scaler2.pickle', 'wb') as f:\n",
    "    pickle.dump(scaler, f)\n",
    "\n",
    "# Loading scaler\n",
    "with open('scaler2.pickle', 'rb') as f:\n",
    "    scaler2 = pickle.load(f)\n",
    "\n",
    "# Saving encoder\n",
    "with open('encoder2.pickle', 'wb') as f:\n",
    "    pickle.dump(encoder, f)\n",
    "\n",
    "# Loading encoder\n",
    "with open('encoder2.pickle', 'rb') as f:\n",
    "    encoder2 = pickle.load(f)\n",
    "\n",
    "    \n",
    "print(\"Done\") "
   ]
  }
 ],
 "metadata": {
  "kernelspec": {
   "display_name": "test",
   "language": "python",
   "name": "test"
  },
  "language_info": {
   "codemirror_mode": {
    "name": "ipython",
    "version": 3
   },
   "file_extension": ".py",
   "mimetype": "text/x-python",
   "name": "python",
   "nbconvert_exporter": "python",
   "pygments_lexer": "ipython3",
   "version": "3.9.18"
  }
 },
 "nbformat": 4,
 "nbformat_minor": 5
}
