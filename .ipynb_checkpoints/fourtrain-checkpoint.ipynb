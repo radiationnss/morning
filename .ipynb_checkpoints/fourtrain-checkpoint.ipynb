{
 "cells": [
  {
   "cell_type": "code",
   "execution_count": 1,
   "id": "b1a2f672-3bfc-4b18-a037-41a3ca5dcac0",
   "metadata": {},
   "outputs": [],
   "source": [
    "import pandas as pd\n",
    "import numpy as np\n",
    "\n",
    "import os\n",
    "import sys\n",
    "\n",
    "# librosa is a Python library for analyzing audio and music. It can be used to extract the data from the audio files we will see it later.\n",
    "import librosa\n",
    "import librosa.display\n",
    "import seaborn as sns\n",
    "import matplotlib.pyplot as plt\n",
    "\n",
    "from sklearn.preprocessing import StandardScaler, OneHotEncoder\n",
    "from sklearn.metrics import confusion_matrix, classification_report\n",
    "from sklearn.model_selection import train_test_split"
   ]
  },
  {
   "cell_type": "code",
   "execution_count": 2,
   "id": "afc4b8da-af64-4dd0-83ff-ee0b5d837d7b",
   "metadata": {},
   "outputs": [
    {
     "data": {
      "text/html": [
       "<div>\n",
       "<style scoped>\n",
       "    .dataframe tbody tr th:only-of-type {\n",
       "        vertical-align: middle;\n",
       "    }\n",
       "\n",
       "    .dataframe tbody tr th {\n",
       "        vertical-align: top;\n",
       "    }\n",
       "\n",
       "    .dataframe thead th {\n",
       "        text-align: right;\n",
       "    }\n",
       "</style>\n",
       "<table border=\"1\" class=\"dataframe\">\n",
       "  <thead>\n",
       "    <tr style=\"text-align: right;\">\n",
       "      <th></th>\n",
       "      <th>0</th>\n",
       "      <th>1</th>\n",
       "      <th>2</th>\n",
       "      <th>3</th>\n",
       "      <th>4</th>\n",
       "      <th>5</th>\n",
       "      <th>6</th>\n",
       "      <th>7</th>\n",
       "      <th>8</th>\n",
       "      <th>9</th>\n",
       "      <th>...</th>\n",
       "      <th>2367</th>\n",
       "      <th>2368</th>\n",
       "      <th>2369</th>\n",
       "      <th>2370</th>\n",
       "      <th>2371</th>\n",
       "      <th>2372</th>\n",
       "      <th>2373</th>\n",
       "      <th>2374</th>\n",
       "      <th>2375</th>\n",
       "      <th>Emotions</th>\n",
       "    </tr>\n",
       "  </thead>\n",
       "  <tbody>\n",
       "    <tr>\n",
       "      <th>0</th>\n",
       "      <td>0.173828</td>\n",
       "      <td>0.264648</td>\n",
       "      <td>0.372559</td>\n",
       "      <td>0.486328</td>\n",
       "      <td>0.625488</td>\n",
       "      <td>0.681152</td>\n",
       "      <td>0.720703</td>\n",
       "      <td>0.651855</td>\n",
       "      <td>0.562988</td>\n",
       "      <td>0.559082</td>\n",
       "      <td>...</td>\n",
       "      <td>27.454710</td>\n",
       "      <td>-24.811575</td>\n",
       "      <td>38.476006</td>\n",
       "      <td>-20.518929</td>\n",
       "      <td>26.791615</td>\n",
       "      <td>-20.561426</td>\n",
       "      <td>16.872976</td>\n",
       "      <td>-15.906387</td>\n",
       "      <td>12.373283</td>\n",
       "      <td>neutral</td>\n",
       "    </tr>\n",
       "    <tr>\n",
       "      <th>1</th>\n",
       "      <td>0.251953</td>\n",
       "      <td>0.378418</td>\n",
       "      <td>0.492676</td>\n",
       "      <td>0.497070</td>\n",
       "      <td>0.501953</td>\n",
       "      <td>0.503418</td>\n",
       "      <td>0.500977</td>\n",
       "      <td>0.498047</td>\n",
       "      <td>0.490234</td>\n",
       "      <td>0.494629</td>\n",
       "      <td>...</td>\n",
       "      <td>0.873289</td>\n",
       "      <td>0.464743</td>\n",
       "      <td>6.040663</td>\n",
       "      <td>-1.618928</td>\n",
       "      <td>-0.346345</td>\n",
       "      <td>2.412566</td>\n",
       "      <td>-4.389700</td>\n",
       "      <td>-2.114351</td>\n",
       "      <td>8.887232</td>\n",
       "      <td>neutral</td>\n",
       "    </tr>\n",
       "    <tr>\n",
       "      <th>2</th>\n",
       "      <td>0.256348</td>\n",
       "      <td>0.354492</td>\n",
       "      <td>0.471191</td>\n",
       "      <td>0.414062</td>\n",
       "      <td>0.378418</td>\n",
       "      <td>0.373535</td>\n",
       "      <td>0.354492</td>\n",
       "      <td>0.408691</td>\n",
       "      <td>0.466797</td>\n",
       "      <td>0.522461</td>\n",
       "      <td>...</td>\n",
       "      <td>26.907248</td>\n",
       "      <td>-9.886968</td>\n",
       "      <td>33.736134</td>\n",
       "      <td>-5.981696</td>\n",
       "      <td>18.949165</td>\n",
       "      <td>-15.546387</td>\n",
       "      <td>16.316257</td>\n",
       "      <td>-17.477917</td>\n",
       "      <td>18.818737</td>\n",
       "      <td>neutral</td>\n",
       "    </tr>\n",
       "    <tr>\n",
       "      <th>3</th>\n",
       "      <td>0.254883</td>\n",
       "      <td>0.373535</td>\n",
       "      <td>0.499023</td>\n",
       "      <td>0.505371</td>\n",
       "      <td>0.503906</td>\n",
       "      <td>0.505371</td>\n",
       "      <td>0.502930</td>\n",
       "      <td>0.496582</td>\n",
       "      <td>0.499512</td>\n",
       "      <td>0.509277</td>\n",
       "      <td>...</td>\n",
       "      <td>2.224589</td>\n",
       "      <td>-0.678352</td>\n",
       "      <td>2.208240</td>\n",
       "      <td>1.466299</td>\n",
       "      <td>2.025446</td>\n",
       "      <td>2.246046</td>\n",
       "      <td>-2.888292</td>\n",
       "      <td>3.860585</td>\n",
       "      <td>1.290843</td>\n",
       "      <td>neutral</td>\n",
       "    </tr>\n",
       "    <tr>\n",
       "      <th>4</th>\n",
       "      <td>0.247070</td>\n",
       "      <td>0.389648</td>\n",
       "      <td>0.564941</td>\n",
       "      <td>0.642578</td>\n",
       "      <td>0.665527</td>\n",
       "      <td>0.684570</td>\n",
       "      <td>0.676270</td>\n",
       "      <td>0.666992</td>\n",
       "      <td>0.648926</td>\n",
       "      <td>0.595703</td>\n",
       "      <td>...</td>\n",
       "      <td>23.018936</td>\n",
       "      <td>-22.310469</td>\n",
       "      <td>22.215027</td>\n",
       "      <td>-20.285820</td>\n",
       "      <td>21.415392</td>\n",
       "      <td>-16.627449</td>\n",
       "      <td>20.846609</td>\n",
       "      <td>-14.373590</td>\n",
       "      <td>15.843704</td>\n",
       "      <td>neutral</td>\n",
       "    </tr>\n",
       "  </tbody>\n",
       "</table>\n",
       "<p>5 rows × 2377 columns</p>\n",
       "</div>"
      ],
      "text/plain": [
       "          0         1         2         3         4         5         6  \\\n",
       "0  0.173828  0.264648  0.372559  0.486328  0.625488  0.681152  0.720703   \n",
       "1  0.251953  0.378418  0.492676  0.497070  0.501953  0.503418  0.500977   \n",
       "2  0.256348  0.354492  0.471191  0.414062  0.378418  0.373535  0.354492   \n",
       "3  0.254883  0.373535  0.499023  0.505371  0.503906  0.505371  0.502930   \n",
       "4  0.247070  0.389648  0.564941  0.642578  0.665527  0.684570  0.676270   \n",
       "\n",
       "          7         8         9  ...       2367       2368       2369  \\\n",
       "0  0.651855  0.562988  0.559082  ...  27.454710 -24.811575  38.476006   \n",
       "1  0.498047  0.490234  0.494629  ...   0.873289   0.464743   6.040663   \n",
       "2  0.408691  0.466797  0.522461  ...  26.907248  -9.886968  33.736134   \n",
       "3  0.496582  0.499512  0.509277  ...   2.224589  -0.678352   2.208240   \n",
       "4  0.666992  0.648926  0.595703  ...  23.018936 -22.310469  22.215027   \n",
       "\n",
       "        2370       2371       2372       2373       2374       2375  Emotions  \n",
       "0 -20.518929  26.791615 -20.561426  16.872976 -15.906387  12.373283   neutral  \n",
       "1  -1.618928  -0.346345   2.412566  -4.389700  -2.114351   8.887232   neutral  \n",
       "2  -5.981696  18.949165 -15.546387  16.316257 -17.477917  18.818737   neutral  \n",
       "3   1.466299   2.025446   2.246046  -2.888292   3.860585   1.290843   neutral  \n",
       "4 -20.285820  21.415392 -16.627449  20.846609 -14.373590  15.843704   neutral  \n",
       "\n",
       "[5 rows x 2377 columns]"
      ]
     },
     "execution_count": 2,
     "metadata": {},
     "output_type": "execute_result"
    }
   ],
   "source": [
    "Emotions = pd.read_csv('emotion.csv')\n",
    "Emotions.head()"
   ]
  },
  {
   "cell_type": "code",
   "execution_count": 3,
   "id": "dca2a7a3-5a06-4e61-bd62-f5d3c096278c",
   "metadata": {},
   "outputs": [
    {
     "name": "stdout",
     "output_type": "stream",
     "text": [
      "0           False\n",
      "1           False\n",
      "2           False\n",
      "3           False\n",
      "4           False\n",
      "            ...  \n",
      "2372         True\n",
      "2373         True\n",
      "2374         True\n",
      "2375         True\n",
      "Emotions    False\n",
      "Length: 2377, dtype: bool\n"
     ]
    }
   ],
   "source": [
    "print(Emotions.isna().any())"
   ]
  },
  {
   "cell_type": "code",
   "execution_count": 4,
   "id": "44f9d51c-0213-4730-9665-07b034456fc9",
   "metadata": {},
   "outputs": [
    {
     "name": "stdout",
     "output_type": "stream",
     "text": [
      "0           False\n",
      "1           False\n",
      "2           False\n",
      "3           False\n",
      "4           False\n",
      "            ...  \n",
      "2372        False\n",
      "2373        False\n",
      "2374        False\n",
      "2375        False\n",
      "Emotions    False\n",
      "Length: 2377, dtype: bool\n"
     ]
    },
    {
     "data": {
      "text/plain": [
       "(35856, 2377)"
      ]
     },
     "execution_count": 4,
     "metadata": {},
     "output_type": "execute_result"
    }
   ],
   "source": [
    "Emotions=Emotions.fillna(0)\n",
    "print(Emotions.isna().any())\n",
    "Emotions.shape"
   ]
  },
  {
   "cell_type": "code",
   "execution_count": 5,
   "id": "25a8cb64-b598-4a7a-bacf-cf9440353743",
   "metadata": {},
   "outputs": [
    {
     "name": "stderr",
     "output_type": "stream",
     "text": [
      "C:\\Users\\abina\\miniconda3\\envs\\test\\lib\\site-packages\\numpy\\core\\fromnumeric.py:86: FutureWarning: The behavior of DataFrame.sum with axis=None is deprecated, in a future version this will reduce over both axes and return a scalar. To retain the old behavior, pass axis=0 (or do not pass axis)\n",
      "  return reduction(axis=axis, out=out, **passkwargs)\n"
     ]
    },
    {
     "data": {
      "text/plain": [
       "0           0\n",
       "1           0\n",
       "2           0\n",
       "3           0\n",
       "4           0\n",
       "           ..\n",
       "2372        0\n",
       "2373        0\n",
       "2374        0\n",
       "2375        0\n",
       "Emotions    0\n",
       "Length: 2377, dtype: int64"
      ]
     },
     "execution_count": 5,
     "metadata": {},
     "output_type": "execute_result"
    }
   ],
   "source": [
    "np.sum(Emotions.isna())"
   ]
  },
  {
   "cell_type": "code",
   "execution_count": 6,
   "id": "bc8ba861-d626-4924-a4ae-c1750cdfd25c",
   "metadata": {},
   "outputs": [],
   "source": [
    "X = Emotions.iloc[: ,:-1].values\n",
    "Y = Emotions['Emotions'].values"
   ]
  },
  {
   "cell_type": "code",
   "execution_count": 7,
   "id": "fd2fca62-9a04-4c66-944c-090237155fd6",
   "metadata": {},
   "outputs": [],
   "source": [
    "from sklearn.preprocessing import StandardScaler, OneHotEncoder\n",
    "encoder = OneHotEncoder()\n",
    "Y = encoder.fit_transform(np.array(Y).reshape(-1,1)).toarray()\n"
   ]
  },
  {
   "cell_type": "code",
   "execution_count": 8,
   "id": "0bf32daf-becb-401a-9546-31e38246c762",
   "metadata": {},
   "outputs": [
    {
     "name": "stdout",
     "output_type": "stream",
     "text": [
      "(35856, 4)\n"
     ]
    },
    {
     "data": {
      "text/plain": [
       "(35856, 2376)"
      ]
     },
     "execution_count": 8,
     "metadata": {},
     "output_type": "execute_result"
    }
   ],
   "source": [
    "print(Y.shape)\n",
    "X.shape"
   ]
  },
  {
   "cell_type": "code",
   "execution_count": 9,
   "id": "7e54e4b8-194c-4cee-83cd-0297483dabbc",
   "metadata": {},
   "outputs": [
    {
     "data": {
      "text/plain": [
       "((28684, 2376), (28684, 4), (7172, 2376), (7172, 4))"
      ]
     },
     "execution_count": 9,
     "metadata": {},
     "output_type": "execute_result"
    }
   ],
   "source": [
    "from sklearn.model_selection import train_test_split\n",
    "\n",
    "x_train, x_test, y_train, y_test = train_test_split(X, Y, random_state=42,test_size=0.2, shuffle=True)\n",
    "x_train.shape, y_train.shape, x_test.shape, y_test.shape"
   ]
  },
  {
   "cell_type": "code",
   "execution_count": 10,
   "id": "658f4bab-22ed-4b07-b493-c10c52ca83e4",
   "metadata": {},
   "outputs": [],
   "source": [
    "#reshape for lstm\n",
    "X_train = x_train.reshape(x_train.shape[0] , x_train.shape[1] , 1)\n",
    "X_test = x_test.reshape(x_test.shape[0] , x_test.shape[1] , 1)"
   ]
  },
  {
   "cell_type": "code",
   "execution_count": 11,
   "id": "486fae9e-693a-463b-a2af-7557c8efe1c1",
   "metadata": {},
   "outputs": [
    {
     "data": {
      "text/plain": [
       "((28684, 2376), (28684, 4), (7172, 2376), (7172, 4))"
      ]
     },
     "execution_count": 11,
     "metadata": {},
     "output_type": "execute_result"
    }
   ],
   "source": [
    "# scaling our data with sklearn's Standard scaler\n",
    "scaler = StandardScaler()\n",
    "x_train = scaler.fit_transform(x_train)\n",
    "x_test = scaler.transform(x_test)\n",
    "x_train.shape, y_train.shape, x_test.shape, y_test.shape"
   ]
  },
  {
   "cell_type": "code",
   "execution_count": 12,
   "id": "ea1a65d9-8ee3-4243-a9fa-ca88bf94c8ae",
   "metadata": {},
   "outputs": [],
   "source": [
    "from keras.callbacks import ModelCheckpoint, EarlyStopping,ReduceLROnPlateau\n",
    "model_checkpoint = ModelCheckpoint('best_model1_weights.h5', monitor='val_accuracy', save_best_only=True)"
   ]
  },
  {
   "cell_type": "code",
   "execution_count": 13,
   "id": "919cfc4c-2e0e-40b9-9cce-8c0a797f3b32",
   "metadata": {},
   "outputs": [],
   "source": [
    "early_stop=EarlyStopping(monitor='val_acc',mode='auto',patience=5,restore_best_weights=True)\n",
    "lr_reduction=ReduceLROnPlateau(monitor='val_acc',patience=3,verbose=1,factor=0.5,min_lr=0.00001)"
   ]
  },
  {
   "cell_type": "code",
   "execution_count": 14,
   "id": "53f583fd-be2f-49df-ac33-ab5c2384f1b9",
   "metadata": {},
   "outputs": [],
   "source": [
    "import tensorflow as tf\n",
    "import keras\n",
    "from keras.preprocessing import sequence\n",
    "from keras.models import Sequential\n",
    "from keras.layers import Dense, Embedding\n",
    "from keras.layers import LSTM,BatchNormalization , GRU\n",
    "from keras.preprocessing.text import Tokenizer\n",
    "from keras.utils import pad_sequences\n",
    "from tensorflow.keras.utils import to_categorical\n",
    "from keras.layers import Input, Flatten, Dropout, Activation\n",
    "from keras.layers import Conv1D, MaxPooling1D, AveragePooling1D\n",
    "from keras.models import Model\n",
    "from keras.callbacks import ModelCheckpoint\n",
    "from tensorflow.keras.optimizers import SGD"
   ]
  },
  {
   "cell_type": "code",
   "execution_count": 15,
   "id": "2fdc24ba-dcb9-4a28-874c-fd8973d2683b",
   "metadata": {},
   "outputs": [
    {
     "data": {
      "text/plain": [
       "((28684, 2376, 1), (28684, 4), (7172, 2376, 1), (7172, 4))"
      ]
     },
     "execution_count": 15,
     "metadata": {},
     "output_type": "execute_result"
    }
   ],
   "source": [
    "#Reshape for CNN_LSTM MODEL\n",
    "\n",
    "x_traincnn =np.expand_dims(x_train, axis=2)\n",
    "x_testcnn= np.expand_dims(x_test, axis=2)\n",
    "x_traincnn.shape, y_train.shape, x_testcnn.shape, y_test.shape\n",
    "#x_testcnn[0]"
   ]
  },
  {
   "cell_type": "code",
   "execution_count": 16,
   "id": "ac87c82f-ebdf-41bc-a140-006130e73fc9",
   "metadata": {},
   "outputs": [
    {
     "name": "stdout",
     "output_type": "stream",
     "text": [
      "Model: \"sequential\"\n",
      "_________________________________________________________________\n",
      " Layer (type)                Output Shape              Param #   \n",
      "=================================================================\n",
      " conv1d (Conv1D)             (None, 2376, 512)         3072      \n",
      "                                                                 \n",
      " batch_normalization (BatchN  (None, 2376, 512)        2048      \n",
      " ormalization)                                                   \n",
      "                                                                 \n",
      " max_pooling1d (MaxPooling1D  (None, 1188, 512)        0         \n",
      " )                                                               \n",
      "                                                                 \n",
      " conv1d_1 (Conv1D)           (None, 1188, 512)         1311232   \n",
      "                                                                 \n",
      " batch_normalization_1 (Batc  (None, 1188, 512)        2048      \n",
      " hNormalization)                                                 \n",
      "                                                                 \n",
      " max_pooling1d_1 (MaxPooling  (None, 594, 512)         0         \n",
      " 1D)                                                             \n",
      "                                                                 \n",
      " dropout (Dropout)           (None, 594, 512)          0         \n",
      "                                                                 \n",
      " conv1d_2 (Conv1D)           (None, 594, 256)          655616    \n",
      "                                                                 \n",
      " batch_normalization_2 (Batc  (None, 594, 256)         1024      \n",
      " hNormalization)                                                 \n",
      "                                                                 \n",
      " max_pooling1d_2 (MaxPooling  (None, 297, 256)         0         \n",
      " 1D)                                                             \n",
      "                                                                 \n",
      " conv1d_3 (Conv1D)           (None, 297, 256)          196864    \n",
      "                                                                 \n",
      " batch_normalization_3 (Batc  (None, 297, 256)         1024      \n",
      " hNormalization)                                                 \n",
      "                                                                 \n",
      " max_pooling1d_3 (MaxPooling  (None, 149, 256)         0         \n",
      " 1D)                                                             \n",
      "                                                                 \n",
      " dropout_1 (Dropout)         (None, 149, 256)          0         \n",
      "                                                                 \n",
      " conv1d_4 (Conv1D)           (None, 149, 128)          98432     \n",
      "                                                                 \n",
      " batch_normalization_4 (Batc  (None, 149, 128)         512       \n",
      " hNormalization)                                                 \n",
      "                                                                 \n",
      " max_pooling1d_4 (MaxPooling  (None, 75, 128)          0         \n",
      " 1D)                                                             \n",
      "                                                                 \n",
      " dropout_2 (Dropout)         (None, 75, 128)           0         \n",
      "                                                                 \n",
      " flatten (Flatten)           (None, 9600)              0         \n",
      "                                                                 \n",
      " dense (Dense)               (None, 512)               4915712   \n",
      "                                                                 \n",
      " batch_normalization_5 (Batc  (None, 512)              2048      \n",
      " hNormalization)                                                 \n",
      "                                                                 \n",
      " dense_1 (Dense)             (None, 4)                 2052      \n",
      "                                                                 \n",
      "=================================================================\n",
      "Total params: 7,191,684\n",
      "Trainable params: 7,187,332\n",
      "Non-trainable params: 4,352\n",
      "_________________________________________________________________\n"
     ]
    }
   ],
   "source": [
    "import tensorflow.keras.layers as L\n",
    "\n",
    "model = tf.keras.Sequential([\n",
    "    L.Conv1D(512,kernel_size=5, strides=1,padding='same', activation='relu',input_shape=(X_train.shape[1],1)),\n",
    "    L.BatchNormalization(),\n",
    "    L.MaxPool1D(pool_size=5,strides=2,padding='same'),\n",
    "    \n",
    "    L.Conv1D(512,kernel_size=5,strides=1,padding='same',activation='relu'),\n",
    "    L.BatchNormalization(),\n",
    "    L.MaxPool1D(pool_size=5,strides=2,padding='same'),\n",
    "    Dropout(0.2),  # Add dropout layer after the second max pooling layer\n",
    "    \n",
    "    L.Conv1D(256,kernel_size=5,strides=1,padding='same',activation='relu'),\n",
    "    L.BatchNormalization(),\n",
    "    L.MaxPool1D(pool_size=5,strides=2,padding='same'),\n",
    "    \n",
    "    L.Conv1D(256,kernel_size=3,strides=1,padding='same',activation='relu'),\n",
    "    L.BatchNormalization(),\n",
    "    L.MaxPool1D(pool_size=5,strides=2,padding='same'),\n",
    "    Dropout(0.2),  # Add dropout layer after the fourth max pooling layer\n",
    "    \n",
    "    L.Conv1D(128,kernel_size=3,strides=1,padding='same',activation='relu'),\n",
    "    L.BatchNormalization(),\n",
    "    L.MaxPool1D(pool_size=3,strides=2,padding='same'),\n",
    "    Dropout(0.2),  # Add dropout layer after the fifth max pooling layer\n",
    "    \n",
    "    L.Flatten(),\n",
    "    L.Dense(512,activation='relu'),\n",
    "    L.BatchNormalization(),\n",
    "    L.Dense(4,activation='softmax')\n",
    "])\n",
    "model.compile(optimizer='adam',loss='categorical_crossentropy',metrics='accuracy')\n",
    "model.summary()"
   ]
  },
  {
   "cell_type": "code",
   "execution_count": 17,
   "id": "e113d8b4-35c4-41a2-863e-25bbdf801528",
   "metadata": {},
   "outputs": [
    {
     "name": "stdout",
     "output_type": "stream",
     "text": [
      "Epoch 1/50\n",
      "449/449 [==============================] - ETA: 0s - loss: 0.9231 - accuracy: 0.6150WARNING:tensorflow:Early stopping conditioned on metric `val_acc` which is not available. Available metrics are: loss,accuracy,val_loss,val_accuracy\n",
      "WARNING:tensorflow:Learning rate reduction is conditioned on metric `val_acc` which is not available. Available metrics are: loss,accuracy,val_loss,val_accuracy,lr\n",
      "449/449 [==============================] - 191s 413ms/step - loss: 0.9231 - accuracy: 0.6150 - val_loss: 0.9489 - val_accuracy: 0.5890 - lr: 0.0010\n",
      "Epoch 2/50\n",
      "449/449 [==============================] - ETA: 0s - loss: 0.7164 - accuracy: 0.6937WARNING:tensorflow:Early stopping conditioned on metric `val_acc` which is not available. Available metrics are: loss,accuracy,val_loss,val_accuracy\n",
      "WARNING:tensorflow:Learning rate reduction is conditioned on metric `val_acc` which is not available. Available metrics are: loss,accuracy,val_loss,val_accuracy,lr\n",
      "449/449 [==============================] - 247s 551ms/step - loss: 0.7164 - accuracy: 0.6937 - val_loss: 0.7356 - val_accuracy: 0.6868 - lr: 0.0010\n",
      "Epoch 3/50\n",
      "449/449 [==============================] - ETA: 0s - loss: 0.6467 - accuracy: 0.7245WARNING:tensorflow:Early stopping conditioned on metric `val_acc` which is not available. Available metrics are: loss,accuracy,val_loss,val_accuracy\n",
      "WARNING:tensorflow:Learning rate reduction is conditioned on metric `val_acc` which is not available. Available metrics are: loss,accuracy,val_loss,val_accuracy,lr\n",
      "449/449 [==============================] - 284s 633ms/step - loss: 0.6467 - accuracy: 0.7245 - val_loss: 0.6360 - val_accuracy: 0.7249 - lr: 0.0010\n",
      "Epoch 4/50\n",
      "449/449 [==============================] - ETA: 0s - loss: 0.5953 - accuracy: 0.7468WARNING:tensorflow:Early stopping conditioned on metric `val_acc` which is not available. Available metrics are: loss,accuracy,val_loss,val_accuracy\n",
      "WARNING:tensorflow:Learning rate reduction is conditioned on metric `val_acc` which is not available. Available metrics are: loss,accuracy,val_loss,val_accuracy,lr\n",
      "449/449 [==============================] - 286s 638ms/step - loss: 0.5953 - accuracy: 0.7468 - val_loss: 0.6920 - val_accuracy: 0.7104 - lr: 0.0010\n",
      "Epoch 5/50\n",
      "449/449 [==============================] - ETA: 0s - loss: 0.5631 - accuracy: 0.7633WARNING:tensorflow:Early stopping conditioned on metric `val_acc` which is not available. Available metrics are: loss,accuracy,val_loss,val_accuracy\n",
      "WARNING:tensorflow:Learning rate reduction is conditioned on metric `val_acc` which is not available. Available metrics are: loss,accuracy,val_loss,val_accuracy,lr\n",
      "449/449 [==============================] - 267s 595ms/step - loss: 0.5631 - accuracy: 0.7633 - val_loss: 0.5742 - val_accuracy: 0.7624 - lr: 0.0010\n",
      "Epoch 6/50\n",
      "449/449 [==============================] - ETA: 0s - loss: 0.5240 - accuracy: 0.7800WARNING:tensorflow:Early stopping conditioned on metric `val_acc` which is not available. Available metrics are: loss,accuracy,val_loss,val_accuracy\n",
      "WARNING:tensorflow:Learning rate reduction is conditioned on metric `val_acc` which is not available. Available metrics are: loss,accuracy,val_loss,val_accuracy,lr\n",
      "449/449 [==============================] - 282s 629ms/step - loss: 0.5240 - accuracy: 0.7800 - val_loss: 0.5466 - val_accuracy: 0.7638 - lr: 0.0010\n",
      "Epoch 7/50\n",
      "449/449 [==============================] - ETA: 0s - loss: 0.4911 - accuracy: 0.7934WARNING:tensorflow:Early stopping conditioned on metric `val_acc` which is not available. Available metrics are: loss,accuracy,val_loss,val_accuracy\n",
      "WARNING:tensorflow:Learning rate reduction is conditioned on metric `val_acc` which is not available. Available metrics are: loss,accuracy,val_loss,val_accuracy,lr\n",
      "449/449 [==============================] - 267s 595ms/step - loss: 0.4911 - accuracy: 0.7934 - val_loss: 0.5691 - val_accuracy: 0.7627 - lr: 0.0010\n",
      "Epoch 8/50\n",
      "449/449 [==============================] - ETA: 0s - loss: 0.4509 - accuracy: 0.8118WARNING:tensorflow:Early stopping conditioned on metric `val_acc` which is not available. Available metrics are: loss,accuracy,val_loss,val_accuracy\n",
      "WARNING:tensorflow:Learning rate reduction is conditioned on metric `val_acc` which is not available. Available metrics are: loss,accuracy,val_loss,val_accuracy,lr\n",
      "449/449 [==============================] - 289s 640ms/step - loss: 0.4509 - accuracy: 0.8118 - val_loss: 0.5011 - val_accuracy: 0.7927 - lr: 0.0010\n",
      "Epoch 9/50\n",
      "449/449 [==============================] - ETA: 0s - loss: 0.4126 - accuracy: 0.8307WARNING:tensorflow:Early stopping conditioned on metric `val_acc` which is not available. Available metrics are: loss,accuracy,val_loss,val_accuracy\n",
      "WARNING:tensorflow:Learning rate reduction is conditioned on metric `val_acc` which is not available. Available metrics are: loss,accuracy,val_loss,val_accuracy,lr\n",
      "449/449 [==============================] - 298s 665ms/step - loss: 0.4126 - accuracy: 0.8307 - val_loss: 0.5817 - val_accuracy: 0.7818 - lr: 0.0010\n",
      "Epoch 10/50\n",
      "449/449 [==============================] - ETA: 0s - loss: 0.3769 - accuracy: 0.8490WARNING:tensorflow:Early stopping conditioned on metric `val_acc` which is not available. Available metrics are: loss,accuracy,val_loss,val_accuracy\n",
      "WARNING:tensorflow:Learning rate reduction is conditioned on metric `val_acc` which is not available. Available metrics are: loss,accuracy,val_loss,val_accuracy,lr\n",
      "449/449 [==============================] - 303s 676ms/step - loss: 0.3769 - accuracy: 0.8490 - val_loss: 0.4585 - val_accuracy: 0.8168 - lr: 0.0010\n",
      "Epoch 11/50\n",
      "449/449 [==============================] - ETA: 0s - loss: 0.3120 - accuracy: 0.8796WARNING:tensorflow:Early stopping conditioned on metric `val_acc` which is not available. Available metrics are: loss,accuracy,val_loss,val_accuracy\n",
      "WARNING:tensorflow:Learning rate reduction is conditioned on metric `val_acc` which is not available. Available metrics are: loss,accuracy,val_loss,val_accuracy,lr\n",
      "449/449 [==============================] - 291s 648ms/step - loss: 0.3120 - accuracy: 0.8796 - val_loss: 0.3699 - val_accuracy: 0.8512 - lr: 0.0010\n",
      "Epoch 12/50\n",
      "449/449 [==============================] - ETA: 0s - loss: 0.2648 - accuracy: 0.8956WARNING:tensorflow:Early stopping conditioned on metric `val_acc` which is not available. Available metrics are: loss,accuracy,val_loss,val_accuracy\n",
      "WARNING:tensorflow:Learning rate reduction is conditioned on metric `val_acc` which is not available. Available metrics are: loss,accuracy,val_loss,val_accuracy,lr\n",
      "449/449 [==============================] - 282s 624ms/step - loss: 0.2648 - accuracy: 0.8956 - val_loss: 0.5996 - val_accuracy: 0.7950 - lr: 0.0010\n",
      "Epoch 13/50\n",
      "449/449 [==============================] - ETA: 0s - loss: 0.2466 - accuracy: 0.9054WARNING:tensorflow:Early stopping conditioned on metric `val_acc` which is not available. Available metrics are: loss,accuracy,val_loss,val_accuracy\n",
      "WARNING:tensorflow:Learning rate reduction is conditioned on metric `val_acc` which is not available. Available metrics are: loss,accuracy,val_loss,val_accuracy,lr\n",
      "449/449 [==============================] - 293s 648ms/step - loss: 0.2466 - accuracy: 0.9054 - val_loss: 0.3091 - val_accuracy: 0.8769 - lr: 0.0010\n",
      "Epoch 14/50\n",
      "449/449 [==============================] - ETA: 0s - loss: 0.1881 - accuracy: 0.9296WARNING:tensorflow:Early stopping conditioned on metric `val_acc` which is not available. Available metrics are: loss,accuracy,val_loss,val_accuracy\n",
      "WARNING:tensorflow:Learning rate reduction is conditioned on metric `val_acc` which is not available. Available metrics are: loss,accuracy,val_loss,val_accuracy,lr\n",
      "449/449 [==============================] - 262s 585ms/step - loss: 0.1881 - accuracy: 0.9296 - val_loss: 0.2898 - val_accuracy: 0.8898 - lr: 0.0010\n",
      "Epoch 15/50\n",
      "449/449 [==============================] - ETA: 0s - loss: 0.1417 - accuracy: 0.9488WARNING:tensorflow:Early stopping conditioned on metric `val_acc` which is not available. Available metrics are: loss,accuracy,val_loss,val_accuracy\n",
      "WARNING:tensorflow:Learning rate reduction is conditioned on metric `val_acc` which is not available. Available metrics are: loss,accuracy,val_loss,val_accuracy,lr\n",
      "449/449 [==============================] - 265s 591ms/step - loss: 0.1417 - accuracy: 0.9488 - val_loss: 0.2817 - val_accuracy: 0.8951 - lr: 0.0010\n",
      "Epoch 16/50\n",
      "449/449 [==============================] - ETA: 0s - loss: 0.1777 - accuracy: 0.9339WARNING:tensorflow:Early stopping conditioned on metric `val_acc` which is not available. Available metrics are: loss,accuracy,val_loss,val_accuracy\n",
      "WARNING:tensorflow:Learning rate reduction is conditioned on metric `val_acc` which is not available. Available metrics are: loss,accuracy,val_loss,val_accuracy,lr\n",
      "449/449 [==============================] - 286s 637ms/step - loss: 0.1777 - accuracy: 0.9339 - val_loss: 0.2496 - val_accuracy: 0.9094 - lr: 0.0010\n",
      "Epoch 17/50\n",
      "449/449 [==============================] - ETA: 0s - loss: 0.1239 - accuracy: 0.9567WARNING:tensorflow:Early stopping conditioned on metric `val_acc` which is not available. Available metrics are: loss,accuracy,val_loss,val_accuracy\n",
      "WARNING:tensorflow:Learning rate reduction is conditioned on metric `val_acc` which is not available. Available metrics are: loss,accuracy,val_loss,val_accuracy,lr\n",
      "449/449 [==============================] - 266s 593ms/step - loss: 0.1239 - accuracy: 0.9567 - val_loss: 0.2212 - val_accuracy: 0.9156 - lr: 0.0010\n",
      "Epoch 18/50\n",
      "449/449 [==============================] - ETA: 0s - loss: 0.0865 - accuracy: 0.9703WARNING:tensorflow:Early stopping conditioned on metric `val_acc` which is not available. Available metrics are: loss,accuracy,val_loss,val_accuracy\n",
      "WARNING:tensorflow:Learning rate reduction is conditioned on metric `val_acc` which is not available. Available metrics are: loss,accuracy,val_loss,val_accuracy,lr\n",
      "449/449 [==============================] - 276s 616ms/step - loss: 0.0865 - accuracy: 0.9703 - val_loss: 0.1659 - val_accuracy: 0.9375 - lr: 0.0010\n",
      "Epoch 19/50\n",
      "449/449 [==============================] - ETA: 0s - loss: 0.0907 - accuracy: 0.9678WARNING:tensorflow:Early stopping conditioned on metric `val_acc` which is not available. Available metrics are: loss,accuracy,val_loss,val_accuracy\n",
      "WARNING:tensorflow:Learning rate reduction is conditioned on metric `val_acc` which is not available. Available metrics are: loss,accuracy,val_loss,val_accuracy,lr\n",
      "449/449 [==============================] - 269s 596ms/step - loss: 0.0907 - accuracy: 0.9678 - val_loss: 0.1863 - val_accuracy: 0.9328 - lr: 0.0010\n",
      "Epoch 20/50\n",
      "449/449 [==============================] - ETA: 0s - loss: 0.0658 - accuracy: 0.9781WARNING:tensorflow:Early stopping conditioned on metric `val_acc` which is not available. Available metrics are: loss,accuracy,val_loss,val_accuracy\n",
      "WARNING:tensorflow:Learning rate reduction is conditioned on metric `val_acc` which is not available. Available metrics are: loss,accuracy,val_loss,val_accuracy,lr\n",
      "449/449 [==============================] - 262s 583ms/step - loss: 0.0658 - accuracy: 0.9781 - val_loss: 0.1889 - val_accuracy: 0.9329 - lr: 0.0010\n",
      "Epoch 21/50\n",
      "449/449 [==============================] - ETA: 0s - loss: 0.0735 - accuracy: 0.9745WARNING:tensorflow:Early stopping conditioned on metric `val_acc` which is not available. Available metrics are: loss,accuracy,val_loss,val_accuracy\n",
      "WARNING:tensorflow:Learning rate reduction is conditioned on metric `val_acc` which is not available. Available metrics are: loss,accuracy,val_loss,val_accuracy,lr\n",
      "449/449 [==============================] - 282s 628ms/step - loss: 0.0735 - accuracy: 0.9745 - val_loss: 0.3055 - val_accuracy: 0.8995 - lr: 0.0010\n",
      "Epoch 22/50\n",
      "449/449 [==============================] - ETA: 0s - loss: 0.1147 - accuracy: 0.9587WARNING:tensorflow:Early stopping conditioned on metric `val_acc` which is not available. Available metrics are: loss,accuracy,val_loss,val_accuracy\n",
      "WARNING:tensorflow:Learning rate reduction is conditioned on metric `val_acc` which is not available. Available metrics are: loss,accuracy,val_loss,val_accuracy,lr\n",
      "449/449 [==============================] - 275s 613ms/step - loss: 0.1147 - accuracy: 0.9587 - val_loss: 0.1587 - val_accuracy: 0.9434 - lr: 0.0010\n",
      "Epoch 23/50\n",
      "449/449 [==============================] - ETA: 0s - loss: 0.0692 - accuracy: 0.9761WARNING:tensorflow:Early stopping conditioned on metric `val_acc` which is not available. Available metrics are: loss,accuracy,val_loss,val_accuracy\n",
      "WARNING:tensorflow:Learning rate reduction is conditioned on metric `val_acc` which is not available. Available metrics are: loss,accuracy,val_loss,val_accuracy,lr\n",
      "449/449 [==============================] - 276s 615ms/step - loss: 0.0692 - accuracy: 0.9761 - val_loss: 0.1168 - val_accuracy: 0.9605 - lr: 0.0010\n",
      "Epoch 24/50\n",
      "449/449 [==============================] - ETA: 0s - loss: 0.0540 - accuracy: 0.9811WARNING:tensorflow:Early stopping conditioned on metric `val_acc` which is not available. Available metrics are: loss,accuracy,val_loss,val_accuracy\n",
      "WARNING:tensorflow:Learning rate reduction is conditioned on metric `val_acc` which is not available. Available metrics are: loss,accuracy,val_loss,val_accuracy,lr\n",
      "449/449 [==============================] - 265s 590ms/step - loss: 0.0540 - accuracy: 0.9811 - val_loss: 0.1261 - val_accuracy: 0.9568 - lr: 0.0010\n",
      "Epoch 25/50\n",
      "449/449 [==============================] - ETA: 0s - loss: 0.0650 - accuracy: 0.9769WARNING:tensorflow:Early stopping conditioned on metric `val_acc` which is not available. Available metrics are: loss,accuracy,val_loss,val_accuracy\n",
      "WARNING:tensorflow:Learning rate reduction is conditioned on metric `val_acc` which is not available. Available metrics are: loss,accuracy,val_loss,val_accuracy,lr\n",
      "449/449 [==============================] - 274s 611ms/step - loss: 0.0650 - accuracy: 0.9769 - val_loss: 0.2797 - val_accuracy: 0.9161 - lr: 0.0010\n",
      "Epoch 26/50\n",
      "449/449 [==============================] - ETA: 0s - loss: 0.1421 - accuracy: 0.9501WARNING:tensorflow:Early stopping conditioned on metric `val_acc` which is not available. Available metrics are: loss,accuracy,val_loss,val_accuracy\n",
      "WARNING:tensorflow:Learning rate reduction is conditioned on metric `val_acc` which is not available. Available metrics are: loss,accuracy,val_loss,val_accuracy,lr\n",
      "449/449 [==============================] - 261s 582ms/step - loss: 0.1421 - accuracy: 0.9501 - val_loss: 0.1570 - val_accuracy: 0.9449 - lr: 0.0010\n",
      "Epoch 27/50\n",
      "449/449 [==============================] - ETA: 0s - loss: 0.0520 - accuracy: 0.9820WARNING:tensorflow:Early stopping conditioned on metric `val_acc` which is not available. Available metrics are: loss,accuracy,val_loss,val_accuracy\n",
      "WARNING:tensorflow:Learning rate reduction is conditioned on metric `val_acc` which is not available. Available metrics are: loss,accuracy,val_loss,val_accuracy,lr\n",
      "449/449 [==============================] - 274s 610ms/step - loss: 0.0520 - accuracy: 0.9820 - val_loss: 0.1167 - val_accuracy: 0.9628 - lr: 0.0010\n",
      "Epoch 28/50\n",
      "449/449 [==============================] - ETA: 0s - loss: 0.0363 - accuracy: 0.9876WARNING:tensorflow:Early stopping conditioned on metric `val_acc` which is not available. Available metrics are: loss,accuracy,val_loss,val_accuracy\n",
      "WARNING:tensorflow:Learning rate reduction is conditioned on metric `val_acc` which is not available. Available metrics are: loss,accuracy,val_loss,val_accuracy,lr\n",
      "449/449 [==============================] - 264s 588ms/step - loss: 0.0363 - accuracy: 0.9876 - val_loss: 0.2070 - val_accuracy: 0.9272 - lr: 0.0010\n",
      "Epoch 29/50\n",
      "449/449 [==============================] - ETA: 0s - loss: 0.0362 - accuracy: 0.9886WARNING:tensorflow:Early stopping conditioned on metric `val_acc` which is not available. Available metrics are: loss,accuracy,val_loss,val_accuracy\n",
      "WARNING:tensorflow:Learning rate reduction is conditioned on metric `val_acc` which is not available. Available metrics are: loss,accuracy,val_loss,val_accuracy,lr\n",
      "449/449 [==============================] - 250s 557ms/step - loss: 0.0362 - accuracy: 0.9886 - val_loss: 0.1035 - val_accuracy: 0.9633 - lr: 0.0010\n",
      "Epoch 30/50\n",
      "449/449 [==============================] - ETA: 0s - loss: 0.0265 - accuracy: 0.9907WARNING:tensorflow:Early stopping conditioned on metric `val_acc` which is not available. Available metrics are: loss,accuracy,val_loss,val_accuracy\n",
      "WARNING:tensorflow:Learning rate reduction is conditioned on metric `val_acc` which is not available. Available metrics are: loss,accuracy,val_loss,val_accuracy,lr\n",
      "449/449 [==============================] - 262s 585ms/step - loss: 0.0265 - accuracy: 0.9907 - val_loss: 0.1012 - val_accuracy: 0.9695 - lr: 0.0010\n",
      "Epoch 31/50\n",
      "449/449 [==============================] - ETA: 0s - loss: 0.0366 - accuracy: 0.9877WARNING:tensorflow:Early stopping conditioned on metric `val_acc` which is not available. Available metrics are: loss,accuracy,val_loss,val_accuracy\n",
      "WARNING:tensorflow:Learning rate reduction is conditioned on metric `val_acc` which is not available. Available metrics are: loss,accuracy,val_loss,val_accuracy,lr\n",
      "449/449 [==============================] - 251s 559ms/step - loss: 0.0366 - accuracy: 0.9877 - val_loss: 0.1589 - val_accuracy: 0.9476 - lr: 0.0010\n",
      "Epoch 32/50\n",
      "449/449 [==============================] - ETA: 0s - loss: 0.0303 - accuracy: 0.9900WARNING:tensorflow:Early stopping conditioned on metric `val_acc` which is not available. Available metrics are: loss,accuracy,val_loss,val_accuracy\n",
      "WARNING:tensorflow:Learning rate reduction is conditioned on metric `val_acc` which is not available. Available metrics are: loss,accuracy,val_loss,val_accuracy,lr\n",
      "449/449 [==============================] - 251s 557ms/step - loss: 0.0303 - accuracy: 0.9900 - val_loss: 0.1143 - val_accuracy: 0.9618 - lr: 0.0010\n",
      "Epoch 33/50\n",
      "449/449 [==============================] - ETA: 0s - loss: 0.0370 - accuracy: 0.9868WARNING:tensorflow:Early stopping conditioned on metric `val_acc` which is not available. Available metrics are: loss,accuracy,val_loss,val_accuracy\n",
      "WARNING:tensorflow:Learning rate reduction is conditioned on metric `val_acc` which is not available. Available metrics are: loss,accuracy,val_loss,val_accuracy,lr\n",
      "449/449 [==============================] - 255s 569ms/step - loss: 0.0370 - accuracy: 0.9868 - val_loss: 0.2653 - val_accuracy: 0.9204 - lr: 0.0010\n",
      "Epoch 34/50\n",
      "449/449 [==============================] - ETA: 0s - loss: 0.0406 - accuracy: 0.9859WARNING:tensorflow:Early stopping conditioned on metric `val_acc` which is not available. Available metrics are: loss,accuracy,val_loss,val_accuracy\n",
      "WARNING:tensorflow:Learning rate reduction is conditioned on metric `val_acc` which is not available. Available metrics are: loss,accuracy,val_loss,val_accuracy,lr\n",
      "449/449 [==============================] - 251s 555ms/step - loss: 0.0406 - accuracy: 0.9859 - val_loss: 0.1194 - val_accuracy: 0.9617 - lr: 0.0010\n",
      "Epoch 35/50\n",
      "449/449 [==============================] - ETA: 0s - loss: 0.0337 - accuracy: 0.9874WARNING:tensorflow:Early stopping conditioned on metric `val_acc` which is not available. Available metrics are: loss,accuracy,val_loss,val_accuracy\n",
      "WARNING:tensorflow:Learning rate reduction is conditioned on metric `val_acc` which is not available. Available metrics are: loss,accuracy,val_loss,val_accuracy,lr\n",
      "449/449 [==============================] - 248s 552ms/step - loss: 0.0337 - accuracy: 0.9874 - val_loss: 0.0934 - val_accuracy: 0.9721 - lr: 0.0010\n",
      "Epoch 36/50\n",
      "449/449 [==============================] - ETA: 0s - loss: 0.0306 - accuracy: 0.9902WARNING:tensorflow:Early stopping conditioned on metric `val_acc` which is not available. Available metrics are: loss,accuracy,val_loss,val_accuracy\n",
      "WARNING:tensorflow:Learning rate reduction is conditioned on metric `val_acc` which is not available. Available metrics are: loss,accuracy,val_loss,val_accuracy,lr\n",
      "449/449 [==============================] - 247s 547ms/step - loss: 0.0306 - accuracy: 0.9902 - val_loss: 0.1321 - val_accuracy: 0.9572 - lr: 0.0010\n",
      "Epoch 37/50\n",
      "449/449 [==============================] - ETA: 0s - loss: 0.0244 - accuracy: 0.9917WARNING:tensorflow:Early stopping conditioned on metric `val_acc` which is not available. Available metrics are: loss,accuracy,val_loss,val_accuracy\n",
      "WARNING:tensorflow:Learning rate reduction is conditioned on metric `val_acc` which is not available. Available metrics are: loss,accuracy,val_loss,val_accuracy,lr\n",
      "449/449 [==============================] - 249s 556ms/step - loss: 0.0244 - accuracy: 0.9917 - val_loss: 0.1170 - val_accuracy: 0.9637 - lr: 0.0010\n",
      "Epoch 38/50\n",
      "449/449 [==============================] - ETA: 0s - loss: 0.0324 - accuracy: 0.9891WARNING:tensorflow:Early stopping conditioned on metric `val_acc` which is not available. Available metrics are: loss,accuracy,val_loss,val_accuracy\n",
      "WARNING:tensorflow:Learning rate reduction is conditioned on metric `val_acc` which is not available. Available metrics are: loss,accuracy,val_loss,val_accuracy,lr\n",
      "449/449 [==============================] - 255s 568ms/step - loss: 0.0324 - accuracy: 0.9891 - val_loss: 0.0951 - val_accuracy: 0.9704 - lr: 0.0010\n",
      "Epoch 39/50\n",
      "449/449 [==============================] - ETA: 0s - loss: 0.0431 - accuracy: 0.9858WARNING:tensorflow:Early stopping conditioned on metric `val_acc` which is not available. Available metrics are: loss,accuracy,val_loss,val_accuracy\n",
      "WARNING:tensorflow:Learning rate reduction is conditioned on metric `val_acc` which is not available. Available metrics are: loss,accuracy,val_loss,val_accuracy,lr\n",
      "449/449 [==============================] - 253s 563ms/step - loss: 0.0431 - accuracy: 0.9858 - val_loss: 0.0822 - val_accuracy: 0.9753 - lr: 0.0010\n",
      "Epoch 40/50\n",
      "449/449 [==============================] - ETA: 0s - loss: 0.0237 - accuracy: 0.9925WARNING:tensorflow:Early stopping conditioned on metric `val_acc` which is not available. Available metrics are: loss,accuracy,val_loss,val_accuracy\n",
      "WARNING:tensorflow:Learning rate reduction is conditioned on metric `val_acc` which is not available. Available metrics are: loss,accuracy,val_loss,val_accuracy,lr\n",
      "449/449 [==============================] - 243s 543ms/step - loss: 0.0237 - accuracy: 0.9925 - val_loss: 0.0915 - val_accuracy: 0.9725 - lr: 0.0010\n",
      "Epoch 41/50\n",
      "449/449 [==============================] - ETA: 0s - loss: 0.0255 - accuracy: 0.9912WARNING:tensorflow:Early stopping conditioned on metric `val_acc` which is not available. Available metrics are: loss,accuracy,val_loss,val_accuracy\n",
      "WARNING:tensorflow:Learning rate reduction is conditioned on metric `val_acc` which is not available. Available metrics are: loss,accuracy,val_loss,val_accuracy,lr\n",
      "449/449 [==============================] - 257s 574ms/step - loss: 0.0255 - accuracy: 0.9912 - val_loss: 0.1785 - val_accuracy: 0.9462 - lr: 0.0010\n",
      "Epoch 42/50\n",
      "449/449 [==============================] - ETA: 0s - loss: 0.0517 - accuracy: 0.9824WARNING:tensorflow:Early stopping conditioned on metric `val_acc` which is not available. Available metrics are: loss,accuracy,val_loss,val_accuracy\n",
      "WARNING:tensorflow:Learning rate reduction is conditioned on metric `val_acc` which is not available. Available metrics are: loss,accuracy,val_loss,val_accuracy,lr\n",
      "449/449 [==============================] - 248s 554ms/step - loss: 0.0517 - accuracy: 0.9824 - val_loss: 0.0916 - val_accuracy: 0.9730 - lr: 0.0010\n",
      "Epoch 43/50\n",
      "449/449 [==============================] - ETA: 0s - loss: 0.0216 - accuracy: 0.9934WARNING:tensorflow:Early stopping conditioned on metric `val_acc` which is not available. Available metrics are: loss,accuracy,val_loss,val_accuracy\n",
      "WARNING:tensorflow:Learning rate reduction is conditioned on metric `val_acc` which is not available. Available metrics are: loss,accuracy,val_loss,val_accuracy,lr\n",
      "449/449 [==============================] - 283s 625ms/step - loss: 0.0216 - accuracy: 0.9934 - val_loss: 0.0871 - val_accuracy: 0.9746 - lr: 0.0010\n",
      "Epoch 44/50\n",
      "449/449 [==============================] - ETA: 0s - loss: 0.0184 - accuracy: 0.9941WARNING:tensorflow:Early stopping conditioned on metric `val_acc` which is not available. Available metrics are: loss,accuracy,val_loss,val_accuracy\n",
      "WARNING:tensorflow:Learning rate reduction is conditioned on metric `val_acc` which is not available. Available metrics are: loss,accuracy,val_loss,val_accuracy,lr\n",
      "449/449 [==============================] - 277s 617ms/step - loss: 0.0184 - accuracy: 0.9941 - val_loss: 0.0889 - val_accuracy: 0.9746 - lr: 0.0010\n",
      "Epoch 45/50\n",
      "449/449 [==============================] - ETA: 0s - loss: 0.0162 - accuracy: 0.9948WARNING:tensorflow:Early stopping conditioned on metric `val_acc` which is not available. Available metrics are: loss,accuracy,val_loss,val_accuracy\n",
      "WARNING:tensorflow:Learning rate reduction is conditioned on metric `val_acc` which is not available. Available metrics are: loss,accuracy,val_loss,val_accuracy,lr\n",
      "449/449 [==============================] - 264s 590ms/step - loss: 0.0162 - accuracy: 0.9948 - val_loss: 0.0726 - val_accuracy: 0.9774 - lr: 0.0010\n",
      "Epoch 46/50\n",
      "449/449 [==============================] - ETA: 0s - loss: 0.0266 - accuracy: 0.9909WARNING:tensorflow:Early stopping conditioned on metric `val_acc` which is not available. Available metrics are: loss,accuracy,val_loss,val_accuracy\n",
      "WARNING:tensorflow:Learning rate reduction is conditioned on metric `val_acc` which is not available. Available metrics are: loss,accuracy,val_loss,val_accuracy,lr\n",
      "449/449 [==============================] - 266s 592ms/step - loss: 0.0266 - accuracy: 0.9909 - val_loss: 0.1280 - val_accuracy: 0.9642 - lr: 0.0010\n",
      "Epoch 47/50\n",
      "449/449 [==============================] - ETA: 0s - loss: 0.0251 - accuracy: 0.9917WARNING:tensorflow:Early stopping conditioned on metric `val_acc` which is not available. Available metrics are: loss,accuracy,val_loss,val_accuracy\n",
      "WARNING:tensorflow:Learning rate reduction is conditioned on metric `val_acc` which is not available. Available metrics are: loss,accuracy,val_loss,val_accuracy,lr\n",
      "449/449 [==============================] - 241s 535ms/step - loss: 0.0251 - accuracy: 0.9917 - val_loss: 0.0925 - val_accuracy: 0.9720 - lr: 0.0010\n",
      "Epoch 48/50\n",
      "449/449 [==============================] - ETA: 0s - loss: 0.0188 - accuracy: 0.9936WARNING:tensorflow:Early stopping conditioned on metric `val_acc` which is not available. Available metrics are: loss,accuracy,val_loss,val_accuracy\n",
      "WARNING:tensorflow:Learning rate reduction is conditioned on metric `val_acc` which is not available. Available metrics are: loss,accuracy,val_loss,val_accuracy,lr\n",
      "449/449 [==============================] - 254s 567ms/step - loss: 0.0188 - accuracy: 0.9936 - val_loss: 0.0946 - val_accuracy: 0.9714 - lr: 0.0010\n",
      "Epoch 49/50\n",
      "449/449 [==============================] - ETA: 0s - loss: 0.0945 - accuracy: 0.9700WARNING:tensorflow:Early stopping conditioned on metric `val_acc` which is not available. Available metrics are: loss,accuracy,val_loss,val_accuracy\n",
      "WARNING:tensorflow:Learning rate reduction is conditioned on metric `val_acc` which is not available. Available metrics are: loss,accuracy,val_loss,val_accuracy,lr\n",
      "449/449 [==============================] - 235s 524ms/step - loss: 0.0945 - accuracy: 0.9700 - val_loss: 0.1052 - val_accuracy: 0.9683 - lr: 0.0010\n",
      "Epoch 50/50\n",
      "449/449 [==============================] - ETA: 0s - loss: 0.0249 - accuracy: 0.9918WARNING:tensorflow:Early stopping conditioned on metric `val_acc` which is not available. Available metrics are: loss,accuracy,val_loss,val_accuracy\n",
      "WARNING:tensorflow:Learning rate reduction is conditioned on metric `val_acc` which is not available. Available metrics are: loss,accuracy,val_loss,val_accuracy,lr\n",
      "449/449 [==============================] - 252s 562ms/step - loss: 0.0249 - accuracy: 0.9918 - val_loss: 0.0814 - val_accuracy: 0.9753 - lr: 0.0010\n"
     ]
    }
   ],
   "source": [
    "history=model.fit(x_traincnn, y_train, epochs=50, validation_data=(x_testcnn, y_test), batch_size=64,callbacks=[early_stop,lr_reduction,model_checkpoint])"
   ]
  },
  {
   "cell_type": "code",
   "execution_count": 18,
   "id": "3cc03b4e-540d-4b7e-941e-5c9d31bd024b",
   "metadata": {},
   "outputs": [
    {
     "name": "stdout",
     "output_type": "stream",
     "text": [
      "225/225 [==============================] - 12s 53ms/step - loss: 0.0814 - accuracy: 0.9753\n",
      "Accuracy of our model on test data :  97.53206968307495 %\n"
     ]
    },
    {
     "data": {
      "image/png": "[encoded data removed]",
      "text/plain": [
       "<Figure size 2000x600 with 2 Axes>"
      ]
     },
     "metadata": {},
     "output_type": "display_data"
    }
   ],
   "source": [
    "print(\"Accuracy of our model on test data : \" , model.evaluate(x_testcnn,y_test)[1]*100 , \"%\")\n",
    "\n",
    "epochs = [i for i in range(50)]\n",
    "fig , ax = plt.subplots(1,2)\n",
    "train_acc = history.history['accuracy']\n",
    "train_loss = history.history['loss']\n",
    "test_acc = history.history['val_accuracy']\n",
    "test_loss = history.history['val_loss']\n",
    "\n",
    "fig.set_size_inches(20,6)\n",
    "ax[0].plot(epochs , train_loss , label = 'Training Loss')\n",
    "ax[0].plot(epochs , test_loss , label = 'Testing Loss')\n",
    "ax[0].set_title('Training & Testing Loss')\n",
    "ax[0].legend()\n",
    "ax[0].set_xlabel(\"Epochs\")\n",
    "\n",
    "ax[1].plot(epochs , train_acc , label = 'Training Accuracy')\n",
    "ax[1].plot(epochs , test_acc , label = 'Testing Accuracy')\n",
    "ax[1].set_title('Training & Testing Accuracy')\n",
    "ax[1].legend()\n",
    "ax[1].set_xlabel(\"Epochs\")\n",
    "plt.show()"
   ]
  },
  {
   "cell_type": "code",
   "execution_count": 19,
   "id": "5dd51bdd-7413-4c21-bc6f-88330fa19ca5",
   "metadata": {},
   "outputs": [
    {
     "name": "stdout",
     "output_type": "stream",
     "text": [
      "225/225 [==============================] - 12s 51ms/step\n"
     ]
    },
    {
     "data": {
      "text/html": [
       "<div>\n",
       "<style scoped>\n",
       "    .dataframe tbody tr th:only-of-type {\n",
       "        vertical-align: middle;\n",
       "    }\n",
       "\n",
       "    .dataframe tbody tr th {\n",
       "        vertical-align: top;\n",
       "    }\n",
       "\n",
       "    .dataframe thead th {\n",
       "        text-align: right;\n",
       "    }\n",
       "</style>\n",
       "<table border=\"1\" class=\"dataframe\">\n",
       "  <thead>\n",
       "    <tr style=\"text-align: right;\">\n",
       "      <th></th>\n",
       "      <th>Predicted Labels</th>\n",
       "      <th>Actual Labels</th>\n",
       "    </tr>\n",
       "  </thead>\n",
       "  <tbody>\n",
       "    <tr>\n",
       "      <th>0</th>\n",
       "      <td>neutral</td>\n",
       "      <td>neutral</td>\n",
       "    </tr>\n",
       "    <tr>\n",
       "      <th>1</th>\n",
       "      <td>sad</td>\n",
       "      <td>happy</td>\n",
       "    </tr>\n",
       "    <tr>\n",
       "      <th>2</th>\n",
       "      <td>neutral</td>\n",
       "      <td>neutral</td>\n",
       "    </tr>\n",
       "    <tr>\n",
       "      <th>3</th>\n",
       "      <td>neutral</td>\n",
       "      <td>neutral</td>\n",
       "    </tr>\n",
       "    <tr>\n",
       "      <th>4</th>\n",
       "      <td>neutral</td>\n",
       "      <td>neutral</td>\n",
       "    </tr>\n",
       "    <tr>\n",
       "      <th>5</th>\n",
       "      <td>happy</td>\n",
       "      <td>happy</td>\n",
       "    </tr>\n",
       "    <tr>\n",
       "      <th>6</th>\n",
       "      <td>angry</td>\n",
       "      <td>angry</td>\n",
       "    </tr>\n",
       "    <tr>\n",
       "      <th>7</th>\n",
       "      <td>happy</td>\n",
       "      <td>happy</td>\n",
       "    </tr>\n",
       "    <tr>\n",
       "      <th>8</th>\n",
       "      <td>angry</td>\n",
       "      <td>angry</td>\n",
       "    </tr>\n",
       "    <tr>\n",
       "      <th>9</th>\n",
       "      <td>angry</td>\n",
       "      <td>angry</td>\n",
       "    </tr>\n",
       "  </tbody>\n",
       "</table>\n",
       "</div>"
      ],
      "text/plain": [
       "  Predicted Labels Actual Labels\n",
       "0          neutral       neutral\n",
       "1              sad         happy\n",
       "2          neutral       neutral\n",
       "3          neutral       neutral\n",
       "4          neutral       neutral\n",
       "5            happy         happy\n",
       "6            angry         angry\n",
       "7            happy         happy\n",
       "8            angry         angry\n",
       "9            angry         angry"
      ]
     },
     "execution_count": 19,
     "metadata": {},
     "output_type": "execute_result"
    }
   ],
   "source": [
    "pred_test0 = model.predict(x_testcnn)\n",
    "y_pred0 = encoder.inverse_transform(pred_test0)\n",
    "y_test0 = encoder.inverse_transform(y_test)\n",
    "\n",
    "# Check for random predictions\n",
    "df0 = pd.DataFrame(columns=['Predicted Labels', 'Actual Labels'])\n",
    "df0['Predicted Labels'] = y_pred0.flatten()\n",
    "df0['Actual Labels'] = y_test0.flatten()\n",
    "\n",
    "df0.head(10)"
   ]
  },
  {
   "cell_type": "code",
   "execution_count": 20,
   "id": "7d976b24-12b6-45b4-9c3d-da826c9cfefc",
   "metadata": {},
   "outputs": [
    {
     "data": {
      "image/png": "[encoded data removed]",
      "text/plain": [
       "<Figure size 1200x1000 with 2 Axes>"
      ]
     },
     "metadata": {},
     "output_type": "display_data"
    },
    {
     "name": "stdout",
     "output_type": "stream",
     "text": [
      "              precision    recall  f1-score   support\n",
      "\n",
      "       angry       0.99      0.98      0.98      1806\n",
      "       happy       0.97      0.97      0.97      1818\n",
      "     neutral       0.97      0.97      0.97      1699\n",
      "         sad       0.97      0.99      0.98      1849\n",
      "\n",
      "    accuracy                           0.98      7172\n",
      "   macro avg       0.98      0.98      0.98      7172\n",
      "weighted avg       0.98      0.98      0.98      7172\n",
      "\n"
     ]
    }
   ],
   "source": [
    "from sklearn.metrics import confusion_matrix,classification_report\n",
    "cm = confusion_matrix(y_test0, y_pred0)\n",
    "plt.figure(figsize = (12, 10))\n",
    "cm = pd.DataFrame(cm , index = [i for i in encoder.categories_] , columns = [i for i in encoder.categories_])\n",
    "#cm = cm.astype('float') / cm.sum(axis=1)[:, np.newaxis]\n",
    "sns.heatmap(cm, linecolor='white', cmap='Blues', linewidth=1, annot=True, fmt='.2f')\n",
    "plt.title('Confusion Matrix', size=20)\n",
    "plt.xlabel('Predicted Labels', size=14)\n",
    "plt.ylabel('Actual Labels', size=14)\n",
    "plt.show()\n",
    "print(classification_report(y_test0, y_pred0))"
   ]
  },
  {
   "cell_type": "code",
   "execution_count": 21,
   "id": "3c30a464-6e05-4056-b961-e00c28f26dda",
   "metadata": {},
   "outputs": [
    {
     "name": "stdout",
     "output_type": "stream",
     "text": [
      "Saved model to disk\n"
     ]
    }
   ],
   "source": [
    "# MLP for Pima Indians Dataset Serialize to JSON and HDF5\n",
    "from tensorflow.keras.models import Sequential, model_from_json\n",
    "model_json = model.to_json()\n",
    "with open(\"CNN_model.json\", \"w\") as json_file:\n",
    "    json_file.write(model_json)\n",
    "# serialize weights to HDF5\n",
    "model.save_weights(\"CNN_model_weights.h5\")\n",
    "print(\"Saved model to disk\") "
   ]
  },
  {
   "cell_type": "code",
   "execution_count": 22,
   "id": "b2497fef-fc1a-4e1d-9911-ce849f89dd40",
   "metadata": {},
   "outputs": [
    {
     "name": "stdout",
     "output_type": "stream",
     "text": [
      "Loaded model from disk\n"
     ]
    }
   ],
   "source": [
    "from tensorflow.keras.models import Sequential, model_from_json\n",
    "import numpy as np\n",
    "json_file = open('CNN_model.json', 'r')\n",
    "loaded_model_json = json_file.read()\n",
    "json_file.close()\n",
    "loaded_model = model_from_json(loaded_model_json)\n",
    "# load weights into new model\n",
    "loaded_model.load_weights(\"best_model1_weights.h5\")\n",
    "print(\"Loaded model from disk\")"
   ]
  },
  {
   "cell_type": "code",
   "execution_count": 23,
   "id": "55ec28b9-987f-4857-9b03-562f46196a53",
   "metadata": {},
   "outputs": [
    {
     "name": "stdout",
     "output_type": "stream",
     "text": [
      "Done\n"
     ]
    }
   ],
   "source": [
    "import pickle\n",
    "\n",
    "# Saving scaler\n",
    "with open('scaler2.pickle', 'wb') as f:\n",
    "    pickle.dump(scaler, f)\n",
    "\n",
    "# Loading scaler\n",
    "with open('scaler2.pickle', 'rb') as f:\n",
    "    scaler2 = pickle.load(f)\n",
    "\n",
    "# Saving encoder\n",
    "with open('encoder2.pickle', 'wb') as f:\n",
    "    pickle.dump(encoder, f)\n",
    "\n",
    "# Loading encoder\n",
    "with open('encoder2.pickle', 'rb') as f:\n",
    "    encoder2 = pickle.load(f)\n",
    "\n",
    "    \n",
    "print(\"Done\") "
   ]
  }
 ],
 "metadata": {
  "kernelspec": {
   "display_name": "test",
   "language": "python",
   "name": "test"
  },
  "language_info": {
   "codemirror_mode": {
    "name": "ipython",
    "version": 3
   },
   "file_extension": ".py",
   "mimetype": "text/x-python",
   "name": "python",
   "nbconvert_exporter": "python",
   "pygments_lexer": "ipython3",
   "version": "3.9.18"
  }
 },
 "nbformat": 4,
 "nbformat_minor": 5
}
